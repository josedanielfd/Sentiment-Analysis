{
 "cells": [
  {
   "cell_type": "markdown",
   "metadata": {},
   "source": [
    "## DESCRIPTIVE STATISTICS"
   ]
  },
  {
   "cell_type": "code",
   "execution_count": 1,
   "metadata": {},
   "outputs": [],
   "source": [
    "import pandas as pd"
   ]
  },
  {
   "cell_type": "code",
   "execution_count": 2,
   "metadata": {},
   "outputs": [],
   "source": [
    "basic = pd.read_csv('basic_db.gz')"
   ]
  },
  {
   "cell_type": "code",
   "execution_count": 3,
   "metadata": {},
   "outputs": [
    {
     "data": {
      "text/html": [
       "<div>\n",
       "<style scoped>\n",
       "    .dataframe tbody tr th:only-of-type {\n",
       "        vertical-align: middle;\n",
       "    }\n",
       "\n",
       "    .dataframe tbody tr th {\n",
       "        vertical-align: top;\n",
       "    }\n",
       "\n",
       "    .dataframe thead th {\n",
       "        text-align: right;\n",
       "    }\n",
       "</style>\n",
       "<table border=\"1\" class=\"dataframe\">\n",
       "  <thead>\n",
       "    <tr style=\"text-align: right;\">\n",
       "      <th></th>\n",
       "      <th>business_id</th>\n",
       "      <th>date</th>\n",
       "      <th>stars</th>\n",
       "      <th>user_id</th>\n",
       "    </tr>\n",
       "  </thead>\n",
       "  <tbody>\n",
       "    <tr>\n",
       "      <th>0</th>\n",
       "      <td>0W4lkclzZThpx3V65bVgig</td>\n",
       "      <td>2016-05-28</td>\n",
       "      <td>5</td>\n",
       "      <td>bv2nCi5Qv5vroFiqKGopiw</td>\n",
       "    </tr>\n",
       "    <tr>\n",
       "      <th>1</th>\n",
       "      <td>AEx2SYEUJmTxVVB18LlCwA</td>\n",
       "      <td>2016-05-28</td>\n",
       "      <td>5</td>\n",
       "      <td>bv2nCi5Qv5vroFiqKGopiw</td>\n",
       "    </tr>\n",
       "    <tr>\n",
       "      <th>2</th>\n",
       "      <td>VR6GpWIda3SfvPC-lg9H3w</td>\n",
       "      <td>2016-05-28</td>\n",
       "      <td>5</td>\n",
       "      <td>bv2nCi5Qv5vroFiqKGopiw</td>\n",
       "    </tr>\n",
       "    <tr>\n",
       "      <th>3</th>\n",
       "      <td>CKC0-MOWMqoeWf6s-szl8g</td>\n",
       "      <td>2016-05-28</td>\n",
       "      <td>5</td>\n",
       "      <td>bv2nCi5Qv5vroFiqKGopiw</td>\n",
       "    </tr>\n",
       "    <tr>\n",
       "      <th>4</th>\n",
       "      <td>ACFtxLv8pGrrxMm6EgjreA</td>\n",
       "      <td>2016-05-28</td>\n",
       "      <td>4</td>\n",
       "      <td>bv2nCi5Qv5vroFiqKGopiw</td>\n",
       "    </tr>\n",
       "  </tbody>\n",
       "</table>\n",
       "</div>"
      ],
      "text/plain": [
       "              business_id        date  stars                 user_id\n",
       "0  0W4lkclzZThpx3V65bVgig  2016-05-28      5  bv2nCi5Qv5vroFiqKGopiw\n",
       "1  AEx2SYEUJmTxVVB18LlCwA  2016-05-28      5  bv2nCi5Qv5vroFiqKGopiw\n",
       "2  VR6GpWIda3SfvPC-lg9H3w  2016-05-28      5  bv2nCi5Qv5vroFiqKGopiw\n",
       "3  CKC0-MOWMqoeWf6s-szl8g  2016-05-28      5  bv2nCi5Qv5vroFiqKGopiw\n",
       "4  ACFtxLv8pGrrxMm6EgjreA  2016-05-28      4  bv2nCi5Qv5vroFiqKGopiw"
      ]
     },
     "execution_count": 3,
     "metadata": {},
     "output_type": "execute_result"
    }
   ],
   "source": [
    "basic.head()"
   ]
  },
  {
   "cell_type": "code",
   "execution_count": 5,
   "metadata": {},
   "outputs": [
    {
     "data": {
      "text/plain": [
       "<matplotlib.axes._subplots.AxesSubplot at 0x113f16f98>"
      ]
     },
     "execution_count": 5,
     "metadata": {},
     "output_type": "execute_result"
    },
    {
     "data": {
      "image/png": "[encoded data removed]",
      "text/plain": [
       "<matplotlib.figure.Figure at 0x11229dcf8>"
      ]
     },
     "metadata": {},
     "output_type": "display_data"
    }
   ],
   "source": [
    "import seaborn as sns\n",
    "sns.distplot(basic['stars'].values, kde=False)\n"
   ]
  },
  {
   "cell_type": "code",
   "execution_count": 7,
   "metadata": {},
   "outputs": [
    {
     "data": {
      "text/html": [
       "<div>\n",
       "<style scoped>\n",
       "    .dataframe tbody tr th:only-of-type {\n",
       "        vertical-align: middle;\n",
       "    }\n",
       "\n",
       "    .dataframe tbody tr th {\n",
       "        vertical-align: top;\n",
       "    }\n",
       "\n",
       "    .dataframe thead th {\n",
       "        text-align: right;\n",
       "    }\n",
       "</style>\n",
       "<table border=\"1\" class=\"dataframe\">\n",
       "  <thead>\n",
       "    <tr style=\"text-align: right;\">\n",
       "      <th></th>\n",
       "      <th>stars</th>\n",
       "    </tr>\n",
       "  </thead>\n",
       "  <tbody>\n",
       "    <tr>\n",
       "      <th>count</th>\n",
       "      <td>5,261,669.00</td>\n",
       "    </tr>\n",
       "    <tr>\n",
       "      <th>mean</th>\n",
       "      <td>3.73</td>\n",
       "    </tr>\n",
       "    <tr>\n",
       "      <th>std</th>\n",
       "      <td>1.43</td>\n",
       "    </tr>\n",
       "    <tr>\n",
       "      <th>min</th>\n",
       "      <td>1.00</td>\n",
       "    </tr>\n",
       "    <tr>\n",
       "      <th>25%</th>\n",
       "      <td>3.00</td>\n",
       "    </tr>\n",
       "    <tr>\n",
       "      <th>50%</th>\n",
       "      <td>4.00</td>\n",
       "    </tr>\n",
       "    <tr>\n",
       "      <th>75%</th>\n",
       "      <td>5.00</td>\n",
       "    </tr>\n",
       "    <tr>\n",
       "      <th>max</th>\n",
       "      <td>5.00</td>\n",
       "    </tr>\n",
       "  </tbody>\n",
       "</table>\n",
       "</div>"
      ],
      "text/plain": [
       "                     stars\n",
       "count         5,261,669.00\n",
       "mean                  3.73\n",
       "std                   1.43\n",
       "min                   1.00\n",
       "25%                   3.00\n",
       "50%                   4.00\n",
       "75%                   5.00\n",
       "max                   5.00"
      ]
     },
     "execution_count": 7,
     "metadata": {},
     "output_type": "execute_result"
    }
   ],
   "source": [
    "pd.options.display.float_format = '{:20,.2f}'.format\n",
    "basic.describe()"
   ]
  },
  {
   "cell_type": "code",
   "execution_count": 8,
   "metadata": {},
   "outputs": [
    {
     "data": {
      "text/plain": [
       "5    2253348\n",
       "4    1223316\n",
       "1     731363\n",
       "3     615481\n",
       "2     438161\n",
       "Name: stars, dtype: int64"
      ]
     },
     "execution_count": 8,
     "metadata": {},
     "output_type": "execute_result"
    }
   ],
   "source": [
    "basic.stars.value_counts()"
   ]
  },
  {
   "cell_type": "markdown",
   "metadata": {},
   "source": [
    "We face a problem of disbalanced clases"
   ]
  },
  {
   "cell_type": "code",
   "execution_count": 5,
   "metadata": {},
   "outputs": [],
   "source": [
    "grps_person = basic.groupby('user_id')\n",
    "reviews_person = grps_person.count().sort_values(by='business_id', ascending = False)  ## Counts of reviews per person\n",
    "pd.options.display.float_format = '{:20,.2f}'.format\n",
    "reviews_person.iloc[:,1].describe()"
   ]
  },
  {
   "cell_type": "code",
   "execution_count": 6,
   "metadata": {
    "scrolled": true
   },
   "outputs": [
    {
     "data": {
      "text/plain": [
       "count           1,326,101.00\n",
       "mean                    3.97\n",
       "std                    13.71\n",
       "min                     1.00\n",
       "25%                     1.00\n",
       "50%                     1.00\n",
       "75%                     3.00\n",
       "max                 3,569.00\n",
       "Name: date, dtype: float64"
      ]
     },
     "execution_count": 6,
     "metadata": {},
     "output_type": "execute_result"
    }
   ],
   "source": [
    "   # Statistics of reviews per person"
   ]
  },
  {
   "cell_type": "code",
   "execution_count": 4,
   "metadata": {},
   "outputs": [
    {
     "data": {
      "text/plain": [
       "count             174,567.00\n",
       "mean                   30.14\n",
       "std                    98.22\n",
       "min                     1.00\n",
       "25%                     4.00\n",
       "50%                     8.00\n",
       "75%                    23.00\n",
       "max                 7,362.00\n",
       "Name: stars, dtype: float64"
      ]
     },
     "execution_count": 4,
     "metadata": {},
     "output_type": "execute_result"
    }
   ],
   "source": [
    "grps_business = basic.groupby('business_id')\n",
    "reviews_business = grps_business.count().sort_values(by='stars', ascending = False)  ## Counts of reviews per business\n",
    "pd.options.display.float_format = '{:20,.2f}'.format\n",
    "reviews_business.iloc[:,1].describe()"
   ]
  },
  {
   "cell_type": "code",
   "execution_count": 12,
   "metadata": {},
   "outputs": [
    {
     "data": {
      "text/plain": [
       "<matplotlib.axes._subplots.AxesSubplot at 0x115eca710>"
      ]
     },
     "execution_count": 12,
     "metadata": {},
     "output_type": "execute_result"
    },
    {
     "data": {
      "image/png": "[encoded data removed]",
      "text/plain": [
       "<matplotlib.figure.Figure at 0x113fa5a20>"
      ]
     },
     "metadata": {},
     "output_type": "display_data"
    }
   ],
   "source": [
    "import matplotlib as plt\n",
    "\n",
    "#Making an histogram to see how are the counts of reviews by user are distributed\n",
    "reviews_person.iloc[:,1].plot.hist(bins = 3000, xlim=(0,40))"
   ]
  },
  {
   "cell_type": "code",
   "execution_count": 6,
   "metadata": {},
   "outputs": [
    {
     "data": {
      "text/plain": [
       "<matplotlib.axes._subplots.AxesSubplot at 0x10f2569e8>"
      ]
     },
     "execution_count": 6,
     "metadata": {},
     "output_type": "execute_result"
    },
    {
     "data": {
      "image/png": "[encoded data removed]",
      "text/plain": [
       "<matplotlib.figure.Figure at 0x10f03fc88>"
      ]
     },
     "metadata": {},
     "output_type": "display_data"
    }
   ],
   "source": [
    "import matplotlib as plt\n",
    "\n",
    "#Making an histogram to see how are the counts of reviews by business are distributed\n",
    "reviews_business.iloc[:,1].plot.hist(bins = 3000, xlim=(0,200))"
   ]
  },
  {
   "cell_type": "code",
   "execution_count": 15,
   "metadata": {
    "scrolled": true
   },
   "outputs": [
    {
     "data": {
      "text/plain": [
       "<matplotlib.axes._subplots.AxesSubplot at 0x11a793b38>"
      ]
     },
     "execution_count": 15,
     "metadata": {},
     "output_type": "execute_result"
    },
    {
     "data": {
      "image/png": "[encoded data removed]",
      "text/plain": [
       "<matplotlib.figure.Figure at 0x10e1c8d30>"
      ]
     },
     "metadata": {},
     "output_type": "display_data"
    }
   ],
   "source": [
    "# Box Plot of the counts of reviews per user\n",
    "reviews_person.iloc[:,1].plot.box()"
   ]
  },
  {
   "cell_type": "code",
   "execution_count": 7,
   "metadata": {},
   "outputs": [
    {
     "data": {
      "text/plain": [
       "<matplotlib.axes._subplots.AxesSubplot at 0x10f316a58>"
      ]
     },
     "execution_count": 7,
     "metadata": {},
     "output_type": "execute_result"
    },
    {
     "data": {
      "image/png": "[encoded data removed]",
      "text/plain": [
       "<matplotlib.figure.Figure at 0x10f2d3f98>"
      ]
     },
     "metadata": {},
     "output_type": "display_data"
    }
   ],
   "source": [
    "reviews_business.iloc[:,1].plot.box()"
   ]
  },
  {
   "cell_type": "code",
   "execution_count": 16,
   "metadata": {},
   "outputs": [],
   "source": [
    "import numpy as np\n",
    "\n",
    "# This for loop calculates the percentiles and of the counts of reviews per user. Also calculates the sum of number of reviews accumulates in actual and previous percentiles\n",
    "list_quantiles = []\n",
    "list_sum_reviews = []\n",
    "for i in np.arange(1,101,1):\n",
    "    list_quantiles.append(reviews_person.iloc[:,1].quantile(i/100))   ## Calculates percentiles over the count of reviews per person\n",
    "    list_sum_reviews.append(sum(reviews_person.iloc[:,1].sort_values()[0:int(len(reviews_person.iloc[:,1])*i/100)]))   #Accumulative sum of count of reviews by percentile\n",
    "    "
   ]
  },
  {
   "cell_type": "code",
   "execution_count": 17,
   "metadata": {
    "scrolled": false
   },
   "outputs": [
    {
     "data": {
      "text/html": [
       "<div>\n",
       "<style scoped>\n",
       "    .dataframe tbody tr th:only-of-type {\n",
       "        vertical-align: middle;\n",
       "    }\n",
       "\n",
       "    .dataframe tbody tr th {\n",
       "        vertical-align: top;\n",
       "    }\n",
       "\n",
       "    .dataframe thead th {\n",
       "        text-align: right;\n",
       "    }\n",
       "</style>\n",
       "<table border=\"1\" class=\"dataframe\">\n",
       "  <thead>\n",
       "    <tr style=\"text-align: right;\">\n",
       "      <th></th>\n",
       "      <th>Count_Reviews</th>\n",
       "      <th>Percentile</th>\n",
       "      <th>Sum_reviews</th>\n",
       "    </tr>\n",
       "  </thead>\n",
       "  <tbody>\n",
       "    <tr>\n",
       "      <th>0</th>\n",
       "      <td>1.00</td>\n",
       "      <td>1</td>\n",
       "      <td>13261</td>\n",
       "    </tr>\n",
       "    <tr>\n",
       "      <th>1</th>\n",
       "      <td>1.00</td>\n",
       "      <td>2</td>\n",
       "      <td>26522</td>\n",
       "    </tr>\n",
       "    <tr>\n",
       "      <th>2</th>\n",
       "      <td>1.00</td>\n",
       "      <td>3</td>\n",
       "      <td>39783</td>\n",
       "    </tr>\n",
       "    <tr>\n",
       "      <th>3</th>\n",
       "      <td>1.00</td>\n",
       "      <td>4</td>\n",
       "      <td>53044</td>\n",
       "    </tr>\n",
       "    <tr>\n",
       "      <th>4</th>\n",
       "      <td>1.00</td>\n",
       "      <td>5</td>\n",
       "      <td>66305</td>\n",
       "    </tr>\n",
       "    <tr>\n",
       "      <th>5</th>\n",
       "      <td>1.00</td>\n",
       "      <td>6</td>\n",
       "      <td>79566</td>\n",
       "    </tr>\n",
       "    <tr>\n",
       "      <th>6</th>\n",
       "      <td>1.00</td>\n",
       "      <td>7</td>\n",
       "      <td>92827</td>\n",
       "    </tr>\n",
       "    <tr>\n",
       "      <th>7</th>\n",
       "      <td>1.00</td>\n",
       "      <td>8</td>\n",
       "      <td>106088</td>\n",
       "    </tr>\n",
       "    <tr>\n",
       "      <th>8</th>\n",
       "      <td>1.00</td>\n",
       "      <td>9</td>\n",
       "      <td>119349</td>\n",
       "    </tr>\n",
       "    <tr>\n",
       "      <th>9</th>\n",
       "      <td>1.00</td>\n",
       "      <td>10</td>\n",
       "      <td>132610</td>\n",
       "    </tr>\n",
       "    <tr>\n",
       "      <th>10</th>\n",
       "      <td>1.00</td>\n",
       "      <td>11</td>\n",
       "      <td>145871</td>\n",
       "    </tr>\n",
       "    <tr>\n",
       "      <th>11</th>\n",
       "      <td>1.00</td>\n",
       "      <td>12</td>\n",
       "      <td>159132</td>\n",
       "    </tr>\n",
       "    <tr>\n",
       "      <th>12</th>\n",
       "      <td>1.00</td>\n",
       "      <td>13</td>\n",
       "      <td>172393</td>\n",
       "    </tr>\n",
       "    <tr>\n",
       "      <th>13</th>\n",
       "      <td>1.00</td>\n",
       "      <td>14</td>\n",
       "      <td>185654</td>\n",
       "    </tr>\n",
       "    <tr>\n",
       "      <th>14</th>\n",
       "      <td>1.00</td>\n",
       "      <td>15</td>\n",
       "      <td>198915</td>\n",
       "    </tr>\n",
       "    <tr>\n",
       "      <th>15</th>\n",
       "      <td>1.00</td>\n",
       "      <td>16</td>\n",
       "      <td>212176</td>\n",
       "    </tr>\n",
       "    <tr>\n",
       "      <th>16</th>\n",
       "      <td>1.00</td>\n",
       "      <td>17</td>\n",
       "      <td>225437</td>\n",
       "    </tr>\n",
       "    <tr>\n",
       "      <th>17</th>\n",
       "      <td>1.00</td>\n",
       "      <td>18</td>\n",
       "      <td>238698</td>\n",
       "    </tr>\n",
       "    <tr>\n",
       "      <th>18</th>\n",
       "      <td>1.00</td>\n",
       "      <td>19</td>\n",
       "      <td>251959</td>\n",
       "    </tr>\n",
       "    <tr>\n",
       "      <th>19</th>\n",
       "      <td>1.00</td>\n",
       "      <td>20</td>\n",
       "      <td>265220</td>\n",
       "    </tr>\n",
       "    <tr>\n",
       "      <th>20</th>\n",
       "      <td>1.00</td>\n",
       "      <td>21</td>\n",
       "      <td>278481</td>\n",
       "    </tr>\n",
       "    <tr>\n",
       "      <th>21</th>\n",
       "      <td>1.00</td>\n",
       "      <td>22</td>\n",
       "      <td>291742</td>\n",
       "    </tr>\n",
       "    <tr>\n",
       "      <th>22</th>\n",
       "      <td>1.00</td>\n",
       "      <td>23</td>\n",
       "      <td>305003</td>\n",
       "    </tr>\n",
       "    <tr>\n",
       "      <th>23</th>\n",
       "      <td>1.00</td>\n",
       "      <td>24</td>\n",
       "      <td>318264</td>\n",
       "    </tr>\n",
       "    <tr>\n",
       "      <th>24</th>\n",
       "      <td>1.00</td>\n",
       "      <td>25</td>\n",
       "      <td>331525</td>\n",
       "    </tr>\n",
       "    <tr>\n",
       "      <th>25</th>\n",
       "      <td>1.00</td>\n",
       "      <td>26</td>\n",
       "      <td>344786</td>\n",
       "    </tr>\n",
       "    <tr>\n",
       "      <th>26</th>\n",
       "      <td>1.00</td>\n",
       "      <td>27</td>\n",
       "      <td>358047</td>\n",
       "    </tr>\n",
       "    <tr>\n",
       "      <th>27</th>\n",
       "      <td>1.00</td>\n",
       "      <td>28</td>\n",
       "      <td>371308</td>\n",
       "    </tr>\n",
       "    <tr>\n",
       "      <th>28</th>\n",
       "      <td>1.00</td>\n",
       "      <td>29</td>\n",
       "      <td>384569</td>\n",
       "    </tr>\n",
       "    <tr>\n",
       "      <th>29</th>\n",
       "      <td>1.00</td>\n",
       "      <td>30</td>\n",
       "      <td>397830</td>\n",
       "    </tr>\n",
       "    <tr>\n",
       "      <th>...</th>\n",
       "      <td>...</td>\n",
       "      <td>...</td>\n",
       "      <td>...</td>\n",
       "    </tr>\n",
       "    <tr>\n",
       "      <th>70</th>\n",
       "      <td>3.00</td>\n",
       "      <td>71</td>\n",
       "      <td>1206254</td>\n",
       "    </tr>\n",
       "    <tr>\n",
       "      <th>71</th>\n",
       "      <td>3.00</td>\n",
       "      <td>72</td>\n",
       "      <td>1246037</td>\n",
       "    </tr>\n",
       "    <tr>\n",
       "      <th>72</th>\n",
       "      <td>3.00</td>\n",
       "      <td>73</td>\n",
       "      <td>1285820</td>\n",
       "    </tr>\n",
       "    <tr>\n",
       "      <th>73</th>\n",
       "      <td>3.00</td>\n",
       "      <td>74</td>\n",
       "      <td>1325603</td>\n",
       "    </tr>\n",
       "    <tr>\n",
       "      <th>74</th>\n",
       "      <td>3.00</td>\n",
       "      <td>75</td>\n",
       "      <td>1365386</td>\n",
       "    </tr>\n",
       "    <tr>\n",
       "      <th>75</th>\n",
       "      <td>3.00</td>\n",
       "      <td>76</td>\n",
       "      <td>1405169</td>\n",
       "    </tr>\n",
       "    <tr>\n",
       "      <th>76</th>\n",
       "      <td>3.00</td>\n",
       "      <td>77</td>\n",
       "      <td>1444952</td>\n",
       "    </tr>\n",
       "    <tr>\n",
       "      <th>77</th>\n",
       "      <td>4.00</td>\n",
       "      <td>78</td>\n",
       "      <td>1487600</td>\n",
       "    </tr>\n",
       "    <tr>\n",
       "      <th>78</th>\n",
       "      <td>4.00</td>\n",
       "      <td>79</td>\n",
       "      <td>1540644</td>\n",
       "    </tr>\n",
       "    <tr>\n",
       "      <th>79</th>\n",
       "      <td>4.00</td>\n",
       "      <td>80</td>\n",
       "      <td>1593688</td>\n",
       "    </tr>\n",
       "    <tr>\n",
       "      <th>80</th>\n",
       "      <td>4.00</td>\n",
       "      <td>81</td>\n",
       "      <td>1646732</td>\n",
       "    </tr>\n",
       "    <tr>\n",
       "      <th>81</th>\n",
       "      <td>4.00</td>\n",
       "      <td>82</td>\n",
       "      <td>1699776</td>\n",
       "    </tr>\n",
       "    <tr>\n",
       "      <th>82</th>\n",
       "      <td>5.00</td>\n",
       "      <td>83</td>\n",
       "      <td>1754492</td>\n",
       "    </tr>\n",
       "    <tr>\n",
       "      <th>83</th>\n",
       "      <td>5.00</td>\n",
       "      <td>84</td>\n",
       "      <td>1820797</td>\n",
       "    </tr>\n",
       "    <tr>\n",
       "      <th>84</th>\n",
       "      <td>5.00</td>\n",
       "      <td>85</td>\n",
       "      <td>1887102</td>\n",
       "    </tr>\n",
       "    <tr>\n",
       "      <th>85</th>\n",
       "      <td>5.00</td>\n",
       "      <td>86</td>\n",
       "      <td>1953407</td>\n",
       "    </tr>\n",
       "    <tr>\n",
       "      <th>86</th>\n",
       "      <td>6.00</td>\n",
       "      <td>87</td>\n",
       "      <td>2030201</td>\n",
       "    </tr>\n",
       "    <tr>\n",
       "      <th>87</th>\n",
       "      <td>6.00</td>\n",
       "      <td>88</td>\n",
       "      <td>2109767</td>\n",
       "    </tr>\n",
       "    <tr>\n",
       "      <th>88</th>\n",
       "      <td>7.00</td>\n",
       "      <td>89</td>\n",
       "      <td>2194881</td>\n",
       "    </tr>\n",
       "    <tr>\n",
       "      <th>89</th>\n",
       "      <td>7.00</td>\n",
       "      <td>90</td>\n",
       "      <td>2287708</td>\n",
       "    </tr>\n",
       "    <tr>\n",
       "      <th>90</th>\n",
       "      <td>8.00</td>\n",
       "      <td>91</td>\n",
       "      <td>2389527</td>\n",
       "    </tr>\n",
       "    <tr>\n",
       "      <th>91</th>\n",
       "      <td>9.00</td>\n",
       "      <td>92</td>\n",
       "      <td>2499768</td>\n",
       "    </tr>\n",
       "    <tr>\n",
       "      <th>92</th>\n",
       "      <td>10.00</td>\n",
       "      <td>93</td>\n",
       "      <td>2622459</td>\n",
       "    </tr>\n",
       "    <tr>\n",
       "      <th>93</th>\n",
       "      <td>11.00</td>\n",
       "      <td>94</td>\n",
       "      <td>2760360</td>\n",
       "    </tr>\n",
       "    <tr>\n",
       "      <th>94</th>\n",
       "      <td>13.00</td>\n",
       "      <td>95</td>\n",
       "      <td>2916913</td>\n",
       "    </tr>\n",
       "    <tr>\n",
       "      <th>95</th>\n",
       "      <td>15.00</td>\n",
       "      <td>96</td>\n",
       "      <td>3100230</td>\n",
       "    </tr>\n",
       "    <tr>\n",
       "      <th>96</th>\n",
       "      <td>19.00</td>\n",
       "      <td>97</td>\n",
       "      <td>3320336</td>\n",
       "    </tr>\n",
       "    <tr>\n",
       "      <th>97</th>\n",
       "      <td>25.00</td>\n",
       "      <td>98</td>\n",
       "      <td>3603378</td>\n",
       "    </tr>\n",
       "    <tr>\n",
       "      <th>98</th>\n",
       "      <td>41.00</td>\n",
       "      <td>99</td>\n",
       "      <td>4018746</td>\n",
       "    </tr>\n",
       "    <tr>\n",
       "      <th>99</th>\n",
       "      <td>3,569.00</td>\n",
       "      <td>100</td>\n",
       "      <td>5261669</td>\n",
       "    </tr>\n",
       "  </tbody>\n",
       "</table>\n",
       "<p>100 rows × 3 columns</p>\n",
       "</div>"
      ],
      "text/plain": [
       "          Count_Reviews  Percentile  Sum_reviews\n",
       "0                  1.00           1        13261\n",
       "1                  1.00           2        26522\n",
       "2                  1.00           3        39783\n",
       "3                  1.00           4        53044\n",
       "4                  1.00           5        66305\n",
       "5                  1.00           6        79566\n",
       "6                  1.00           7        92827\n",
       "7                  1.00           8       106088\n",
       "8                  1.00           9       119349\n",
       "9                  1.00          10       132610\n",
       "10                 1.00          11       145871\n",
       "11                 1.00          12       159132\n",
       "12                 1.00          13       172393\n",
       "13                 1.00          14       185654\n",
       "14                 1.00          15       198915\n",
       "15                 1.00          16       212176\n",
       "16                 1.00          17       225437\n",
       "17                 1.00          18       238698\n",
       "18                 1.00          19       251959\n",
       "19                 1.00          20       265220\n",
       "20                 1.00          21       278481\n",
       "21                 1.00          22       291742\n",
       "22                 1.00          23       305003\n",
       "23                 1.00          24       318264\n",
       "24                 1.00          25       331525\n",
       "25                 1.00          26       344786\n",
       "26                 1.00          27       358047\n",
       "27                 1.00          28       371308\n",
       "28                 1.00          29       384569\n",
       "29                 1.00          30       397830\n",
       "..                  ...         ...          ...\n",
       "70                 3.00          71      1206254\n",
       "71                 3.00          72      1246037\n",
       "72                 3.00          73      1285820\n",
       "73                 3.00          74      1325603\n",
       "74                 3.00          75      1365386\n",
       "75                 3.00          76      1405169\n",
       "76                 3.00          77      1444952\n",
       "77                 4.00          78      1487600\n",
       "78                 4.00          79      1540644\n",
       "79                 4.00          80      1593688\n",
       "80                 4.00          81      1646732\n",
       "81                 4.00          82      1699776\n",
       "82                 5.00          83      1754492\n",
       "83                 5.00          84      1820797\n",
       "84                 5.00          85      1887102\n",
       "85                 5.00          86      1953407\n",
       "86                 6.00          87      2030201\n",
       "87                 6.00          88      2109767\n",
       "88                 7.00          89      2194881\n",
       "89                 7.00          90      2287708\n",
       "90                 8.00          91      2389527\n",
       "91                 9.00          92      2499768\n",
       "92                10.00          93      2622459\n",
       "93                11.00          94      2760360\n",
       "94                13.00          95      2916913\n",
       "95                15.00          96      3100230\n",
       "96                19.00          97      3320336\n",
       "97                25.00          98      3603378\n",
       "98                41.00          99      4018746\n",
       "99             3,569.00         100      5261669\n",
       "\n",
       "[100 rows x 3 columns]"
      ]
     },
     "execution_count": 17,
     "metadata": {},
     "output_type": "execute_result"
    }
   ],
   "source": [
    "import matplotlib as plt\n",
    "q = np.arange(1,101,1)\n",
    "percentiles_count = pd.DataFrame({'Count_Reviews':list_quantiles, 'Percentile':q, 'Sum_reviews':list_sum_reviews})\n",
    "percentiles_count.head(100)"
   ]
  },
  {
   "cell_type": "code",
   "execution_count": 19,
   "metadata": {},
   "outputs": [
    {
     "data": {
      "text/plain": [
       "<matplotlib.axes._subplots.AxesSubplot at 0x115e9f128>"
      ]
     },
     "execution_count": 19,
     "metadata": {},
     "output_type": "execute_result"
    },
    {
     "data": {
      "image/png": "[encoded data removed]",
      "text/plain": [
       "<matplotlib.figure.Figure at 0x11583f390>"
      ]
     },
     "metadata": {},
     "output_type": "display_data"
    }
   ],
   "source": [
    "percentiles_count.plot(x='Percentile',y='Sum_reviews', title='Percentiles and Sum of reviews')"
   ]
  },
  {
   "cell_type": "code",
   "execution_count": 20,
   "metadata": {},
   "outputs": [
    {
     "data": {
      "text/plain": [
       "167.0"
      ]
     },
     "execution_count": 20,
     "metadata": {},
     "output_type": "execute_result"
    }
   ],
   "source": [
    "reviews_person.iloc[:,1].quantile(.999)"
   ]
  },
  {
   "cell_type": "markdown",
   "metadata": {},
   "source": [
    "Similarly for business"
   ]
  },
  {
   "cell_type": "code",
   "execution_count": 8,
   "metadata": {},
   "outputs": [
    {
     "name": "stdout",
     "output_type": "stream",
     "text": [
      "2.5418381690979004\n"
     ]
    }
   ],
   "source": [
    "import numpy as np\n",
    "import matplotlib as plt\n",
    "import time\n",
    "\n",
    "start_time = time.time()\n",
    "\n",
    "# This for loop calculates the percentiles and of the counts of reviews per business. Also calculates the sum of number of reviews accumulates in actual and previous percentiles\n",
    "list_quantiles_business = []\n",
    "list_sum_reviews_business = []\n",
    "for i in np.arange(1,101,1):\n",
    "    list_quantiles_business.append(reviews_business.iloc[:,1].quantile(i/100))   ## Calculates percentiles over the count of reviews per person\n",
    "    list_sum_reviews_business.append(sum(reviews_business.iloc[:,1].sort_values()[0:int(len(reviews_business.iloc[:,1])*i/100)]))   #Accumulative sum of count of reviews by percentile\n",
    "\n",
    "\n",
    "q = np.arange(1,101,1)\n",
    "percentiles_count_business = pd.DataFrame({'Count_Reviews':list_quantiles_business, 'Percentile':q, 'Sum_reviews':list_sum_reviews_business})\n",
    "percentiles_count_business.head(100)\n",
    "\n",
    "print(time.time() - start_time)"
   ]
  },
  {
   "cell_type": "code",
   "execution_count": 13,
   "metadata": {
    "scrolled": true
   },
   "outputs": [
    {
     "data": {
      "text/plain": [
       "<matplotlib.axes._subplots.AxesSubplot at 0x10bf009e8>"
      ]
     },
     "execution_count": 13,
     "metadata": {},
     "output_type": "execute_result"
    },
    {
     "data": {
      "image/png": "[encoded data removed]",
      "text/plain": [
       "<matplotlib.figure.Figure at 0x10bef6f60>"
      ]
     },
     "metadata": {},
     "output_type": "display_data"
    }
   ],
   "source": [
    "percentiles_count_business.plot(x='Percentile',y='Sum_reviews', title='Percentiles and Sum of reviews by business')"
   ]
  },
  {
   "cell_type": "code",
   "execution_count": 10,
   "metadata": {},
   "outputs": [
    {
     "data": {
      "text/html": [
       "<div>\n",
       "<style scoped>\n",
       "    .dataframe tbody tr th:only-of-type {\n",
       "        vertical-align: middle;\n",
       "    }\n",
       "\n",
       "    .dataframe tbody tr th {\n",
       "        vertical-align: top;\n",
       "    }\n",
       "\n",
       "    .dataframe thead th {\n",
       "        text-align: right;\n",
       "    }\n",
       "</style>\n",
       "<table border=\"1\" class=\"dataframe\">\n",
       "  <thead>\n",
       "    <tr style=\"text-align: right;\">\n",
       "      <th></th>\n",
       "      <th>Count_Reviews</th>\n",
       "      <th>Percentile</th>\n",
       "      <th>Sum_reviews</th>\n",
       "    </tr>\n",
       "  </thead>\n",
       "  <tbody>\n",
       "    <tr>\n",
       "      <th>0</th>\n",
       "      <td>3.00</td>\n",
       "      <td>1</td>\n",
       "      <td>5191</td>\n",
       "    </tr>\n",
       "    <tr>\n",
       "      <th>1</th>\n",
       "      <td>3.00</td>\n",
       "      <td>2</td>\n",
       "      <td>10429</td>\n",
       "    </tr>\n",
       "    <tr>\n",
       "      <th>2</th>\n",
       "      <td>3.00</td>\n",
       "      <td>3</td>\n",
       "      <td>15667</td>\n",
       "    </tr>\n",
       "    <tr>\n",
       "      <th>3</th>\n",
       "      <td>3.00</td>\n",
       "      <td>4</td>\n",
       "      <td>20902</td>\n",
       "    </tr>\n",
       "    <tr>\n",
       "      <th>4</th>\n",
       "      <td>3.00</td>\n",
       "      <td>5</td>\n",
       "      <td>26140</td>\n",
       "    </tr>\n",
       "    <tr>\n",
       "      <th>5</th>\n",
       "      <td>3.00</td>\n",
       "      <td>6</td>\n",
       "      <td>31378</td>\n",
       "    </tr>\n",
       "    <tr>\n",
       "      <th>6</th>\n",
       "      <td>3.00</td>\n",
       "      <td>7</td>\n",
       "      <td>36613</td>\n",
       "    </tr>\n",
       "    <tr>\n",
       "      <th>7</th>\n",
       "      <td>3.00</td>\n",
       "      <td>8</td>\n",
       "      <td>41851</td>\n",
       "    </tr>\n",
       "    <tr>\n",
       "      <th>8</th>\n",
       "      <td>3.00</td>\n",
       "      <td>9</td>\n",
       "      <td>47089</td>\n",
       "    </tr>\n",
       "    <tr>\n",
       "      <th>9</th>\n",
       "      <td>3.00</td>\n",
       "      <td>10</td>\n",
       "      <td>52324</td>\n",
       "    </tr>\n",
       "    <tr>\n",
       "      <th>10</th>\n",
       "      <td>3.00</td>\n",
       "      <td>11</td>\n",
       "      <td>57562</td>\n",
       "    </tr>\n",
       "    <tr>\n",
       "      <th>11</th>\n",
       "      <td>3.00</td>\n",
       "      <td>12</td>\n",
       "      <td>62800</td>\n",
       "    </tr>\n",
       "    <tr>\n",
       "      <th>12</th>\n",
       "      <td>3.00</td>\n",
       "      <td>13</td>\n",
       "      <td>68035</td>\n",
       "    </tr>\n",
       "    <tr>\n",
       "      <th>13</th>\n",
       "      <td>3.00</td>\n",
       "      <td>14</td>\n",
       "      <td>73273</td>\n",
       "    </tr>\n",
       "    <tr>\n",
       "      <th>14</th>\n",
       "      <td>3.00</td>\n",
       "      <td>15</td>\n",
       "      <td>78511</td>\n",
       "    </tr>\n",
       "    <tr>\n",
       "      <th>15</th>\n",
       "      <td>3.00</td>\n",
       "      <td>16</td>\n",
       "      <td>83746</td>\n",
       "    </tr>\n",
       "    <tr>\n",
       "      <th>16</th>\n",
       "      <td>3.00</td>\n",
       "      <td>17</td>\n",
       "      <td>88984</td>\n",
       "    </tr>\n",
       "    <tr>\n",
       "      <th>17</th>\n",
       "      <td>3.00</td>\n",
       "      <td>18</td>\n",
       "      <td>94222</td>\n",
       "    </tr>\n",
       "    <tr>\n",
       "      <th>18</th>\n",
       "      <td>4.00</td>\n",
       "      <td>19</td>\n",
       "      <td>100240</td>\n",
       "    </tr>\n",
       "    <tr>\n",
       "      <th>19</th>\n",
       "      <td>4.00</td>\n",
       "      <td>20</td>\n",
       "      <td>107224</td>\n",
       "    </tr>\n",
       "    <tr>\n",
       "      <th>20</th>\n",
       "      <td>4.00</td>\n",
       "      <td>21</td>\n",
       "      <td>114208</td>\n",
       "    </tr>\n",
       "    <tr>\n",
       "      <th>21</th>\n",
       "      <td>4.00</td>\n",
       "      <td>22</td>\n",
       "      <td>121188</td>\n",
       "    </tr>\n",
       "    <tr>\n",
       "      <th>22</th>\n",
       "      <td>4.00</td>\n",
       "      <td>23</td>\n",
       "      <td>128172</td>\n",
       "    </tr>\n",
       "    <tr>\n",
       "      <th>23</th>\n",
       "      <td>4.00</td>\n",
       "      <td>24</td>\n",
       "      <td>135156</td>\n",
       "    </tr>\n",
       "    <tr>\n",
       "      <th>24</th>\n",
       "      <td>4.00</td>\n",
       "      <td>25</td>\n",
       "      <td>142136</td>\n",
       "    </tr>\n",
       "    <tr>\n",
       "      <th>25</th>\n",
       "      <td>4.00</td>\n",
       "      <td>26</td>\n",
       "      <td>149120</td>\n",
       "    </tr>\n",
       "    <tr>\n",
       "      <th>26</th>\n",
       "      <td>4.00</td>\n",
       "      <td>27</td>\n",
       "      <td>156104</td>\n",
       "    </tr>\n",
       "    <tr>\n",
       "      <th>27</th>\n",
       "      <td>4.00</td>\n",
       "      <td>28</td>\n",
       "      <td>163084</td>\n",
       "    </tr>\n",
       "    <tr>\n",
       "      <th>28</th>\n",
       "      <td>5.00</td>\n",
       "      <td>29</td>\n",
       "      <td>171169</td>\n",
       "    </tr>\n",
       "    <tr>\n",
       "      <th>29</th>\n",
       "      <td>5.00</td>\n",
       "      <td>30</td>\n",
       "      <td>179899</td>\n",
       "    </tr>\n",
       "    <tr>\n",
       "      <th>...</th>\n",
       "      <td>...</td>\n",
       "      <td>...</td>\n",
       "      <td>...</td>\n",
       "    </tr>\n",
       "    <tr>\n",
       "      <th>70</th>\n",
       "      <td>19.00</td>\n",
       "      <td>71</td>\n",
       "      <td>862163</td>\n",
       "    </tr>\n",
       "    <tr>\n",
       "      <th>71</th>\n",
       "      <td>20.00</td>\n",
       "      <td>72</td>\n",
       "      <td>895582</td>\n",
       "    </tr>\n",
       "    <tr>\n",
       "      <th>72</th>\n",
       "      <td>21.00</td>\n",
       "      <td>73</td>\n",
       "      <td>930654</td>\n",
       "    </tr>\n",
       "    <tr>\n",
       "      <th>73</th>\n",
       "      <td>22.00</td>\n",
       "      <td>74</td>\n",
       "      <td>967544</td>\n",
       "    </tr>\n",
       "    <tr>\n",
       "      <th>74</th>\n",
       "      <td>23.00</td>\n",
       "      <td>75</td>\n",
       "      <td>1006367</td>\n",
       "    </tr>\n",
       "    <tr>\n",
       "      <th>75</th>\n",
       "      <td>24.00</td>\n",
       "      <td>76</td>\n",
       "      <td>1047167</td>\n",
       "    </tr>\n",
       "    <tr>\n",
       "      <th>76</th>\n",
       "      <td>25.00</td>\n",
       "      <td>77</td>\n",
       "      <td>1090077</td>\n",
       "    </tr>\n",
       "    <tr>\n",
       "      <th>77</th>\n",
       "      <td>27.00</td>\n",
       "      <td>78</td>\n",
       "      <td>1135308</td>\n",
       "    </tr>\n",
       "    <tr>\n",
       "      <th>78</th>\n",
       "      <td>28.00</td>\n",
       "      <td>79</td>\n",
       "      <td>1183175</td>\n",
       "    </tr>\n",
       "    <tr>\n",
       "      <th>79</th>\n",
       "      <td>30.00</td>\n",
       "      <td>80</td>\n",
       "      <td>1233826</td>\n",
       "    </tr>\n",
       "    <tr>\n",
       "      <th>80</th>\n",
       "      <td>32.00</td>\n",
       "      <td>81</td>\n",
       "      <td>1287430</td>\n",
       "    </tr>\n",
       "    <tr>\n",
       "      <th>81</th>\n",
       "      <td>34.00</td>\n",
       "      <td>82</td>\n",
       "      <td>1344462</td>\n",
       "    </tr>\n",
       "    <tr>\n",
       "      <th>82</th>\n",
       "      <td>36.00</td>\n",
       "      <td>83</td>\n",
       "      <td>1405240</td>\n",
       "    </tr>\n",
       "    <tr>\n",
       "      <th>83</th>\n",
       "      <td>39.00</td>\n",
       "      <td>84</td>\n",
       "      <td>1470151</td>\n",
       "    </tr>\n",
       "    <tr>\n",
       "      <th>84</th>\n",
       "      <td>41.00</td>\n",
       "      <td>85</td>\n",
       "      <td>1539860</td>\n",
       "    </tr>\n",
       "    <tr>\n",
       "      <th>85</th>\n",
       "      <td>44.00</td>\n",
       "      <td>86</td>\n",
       "      <td>1614610</td>\n",
       "    </tr>\n",
       "    <tr>\n",
       "      <th>86</th>\n",
       "      <td>48.00</td>\n",
       "      <td>87</td>\n",
       "      <td>1695334</td>\n",
       "    </tr>\n",
       "    <tr>\n",
       "      <th>87</th>\n",
       "      <td>52.00</td>\n",
       "      <td>88</td>\n",
       "      <td>1782543</td>\n",
       "    </tr>\n",
       "    <tr>\n",
       "      <th>88</th>\n",
       "      <td>57.00</td>\n",
       "      <td>89</td>\n",
       "      <td>1877242</td>\n",
       "    </tr>\n",
       "    <tr>\n",
       "      <th>89</th>\n",
       "      <td>62.00</td>\n",
       "      <td>90</td>\n",
       "      <td>1980838</td>\n",
       "    </tr>\n",
       "    <tr>\n",
       "      <th>90</th>\n",
       "      <td>69.00</td>\n",
       "      <td>91</td>\n",
       "      <td>2095009</td>\n",
       "    </tr>\n",
       "    <tr>\n",
       "      <th>91</th>\n",
       "      <td>77.00</td>\n",
       "      <td>92</td>\n",
       "      <td>2221973</td>\n",
       "    </tr>\n",
       "    <tr>\n",
       "      <th>92</th>\n",
       "      <td>87.00</td>\n",
       "      <td>93</td>\n",
       "      <td>2364249</td>\n",
       "    </tr>\n",
       "    <tr>\n",
       "      <th>93</th>\n",
       "      <td>99.00</td>\n",
       "      <td>94</td>\n",
       "      <td>2525333</td>\n",
       "    </tr>\n",
       "    <tr>\n",
       "      <th>94</th>\n",
       "      <td>115.00</td>\n",
       "      <td>95</td>\n",
       "      <td>2711416</td>\n",
       "    </tr>\n",
       "    <tr>\n",
       "      <th>95</th>\n",
       "      <td>137.00</td>\n",
       "      <td>96</td>\n",
       "      <td>2930578</td>\n",
       "    </tr>\n",
       "    <tr>\n",
       "      <th>96</th>\n",
       "      <td>172.00</td>\n",
       "      <td>97</td>\n",
       "      <td>3197961</td>\n",
       "    </tr>\n",
       "    <tr>\n",
       "      <th>97</th>\n",
       "      <td>228.00</td>\n",
       "      <td>98</td>\n",
       "      <td>3542242</td>\n",
       "    </tr>\n",
       "    <tr>\n",
       "      <th>98</th>\n",
       "      <td>351.00</td>\n",
       "      <td>99</td>\n",
       "      <td>4030833</td>\n",
       "    </tr>\n",
       "    <tr>\n",
       "      <th>99</th>\n",
       "      <td>7,362.00</td>\n",
       "      <td>100</td>\n",
       "      <td>5261669</td>\n",
       "    </tr>\n",
       "  </tbody>\n",
       "</table>\n",
       "<p>100 rows × 3 columns</p>\n",
       "</div>"
      ],
      "text/plain": [
       "          Count_Reviews  Percentile  Sum_reviews\n",
       "0                  3.00           1         5191\n",
       "1                  3.00           2        10429\n",
       "2                  3.00           3        15667\n",
       "3                  3.00           4        20902\n",
       "4                  3.00           5        26140\n",
       "5                  3.00           6        31378\n",
       "6                  3.00           7        36613\n",
       "7                  3.00           8        41851\n",
       "8                  3.00           9        47089\n",
       "9                  3.00          10        52324\n",
       "10                 3.00          11        57562\n",
       "11                 3.00          12        62800\n",
       "12                 3.00          13        68035\n",
       "13                 3.00          14        73273\n",
       "14                 3.00          15        78511\n",
       "15                 3.00          16        83746\n",
       "16                 3.00          17        88984\n",
       "17                 3.00          18        94222\n",
       "18                 4.00          19       100240\n",
       "19                 4.00          20       107224\n",
       "20                 4.00          21       114208\n",
       "21                 4.00          22       121188\n",
       "22                 4.00          23       128172\n",
       "23                 4.00          24       135156\n",
       "24                 4.00          25       142136\n",
       "25                 4.00          26       149120\n",
       "26                 4.00          27       156104\n",
       "27                 4.00          28       163084\n",
       "28                 5.00          29       171169\n",
       "29                 5.00          30       179899\n",
       "..                  ...         ...          ...\n",
       "70                19.00          71       862163\n",
       "71                20.00          72       895582\n",
       "72                21.00          73       930654\n",
       "73                22.00          74       967544\n",
       "74                23.00          75      1006367\n",
       "75                24.00          76      1047167\n",
       "76                25.00          77      1090077\n",
       "77                27.00          78      1135308\n",
       "78                28.00          79      1183175\n",
       "79                30.00          80      1233826\n",
       "80                32.00          81      1287430\n",
       "81                34.00          82      1344462\n",
       "82                36.00          83      1405240\n",
       "83                39.00          84      1470151\n",
       "84                41.00          85      1539860\n",
       "85                44.00          86      1614610\n",
       "86                48.00          87      1695334\n",
       "87                52.00          88      1782543\n",
       "88                57.00          89      1877242\n",
       "89                62.00          90      1980838\n",
       "90                69.00          91      2095009\n",
       "91                77.00          92      2221973\n",
       "92                87.00          93      2364249\n",
       "93                99.00          94      2525333\n",
       "94               115.00          95      2711416\n",
       "95               137.00          96      2930578\n",
       "96               172.00          97      3197961\n",
       "97               228.00          98      3542242\n",
       "98               351.00          99      4030833\n",
       "99             7,362.00         100      5261669\n",
       "\n",
       "[100 rows x 3 columns]"
      ]
     },
     "execution_count": 10,
     "metadata": {},
     "output_type": "execute_result"
    }
   ],
   "source": [
    "percentiles_count_business"
   ]
  },
  {
   "cell_type": "markdown",
   "metadata": {},
   "source": [
    "How is the distribution of the 99th percentile?"
   ]
  },
  {
   "cell_type": "code",
   "execution_count": 22,
   "metadata": {
    "scrolled": true
   },
   "outputs": [
    {
     "data": {
      "text/plain": [
       "<matplotlib.axes._subplots.AxesSubplot at 0x116212a90>"
      ]
     },
     "execution_count": 22,
     "metadata": {},
     "output_type": "execute_result"
    },
    {
     "data": {
      "image/png": "[encoded data removed]",
      "text/plain": [
       "<matplotlib.figure.Figure at 0x11a69a438>"
      ]
     },
     "metadata": {},
     "output_type": "display_data"
    }
   ],
   "source": [
    "reviews_person.iloc[:,1].sort_values()[int(len(reviews_person.iloc[:,1])*99/100):len(reviews_person)].hist(bins = 100)\n"
   ]
  },
  {
   "cell_type": "markdown",
   "metadata": {},
   "source": [
    "How are the statistics of the 99th percentile?"
   ]
  },
  {
   "cell_type": "code",
   "execution_count": 26,
   "metadata": {},
   "outputs": [
    {
     "data": {
      "text/plain": [
       "count              13,262.00\n",
       "mean                   93.72\n",
       "std                    93.17\n",
       "min                    41.00\n",
       "25%                    50.00\n",
       "50%                    65.00\n",
       "75%                   101.00\n",
       "max                 3,569.00\n",
       "Name: date, dtype: float64"
      ]
     },
     "execution_count": 26,
     "metadata": {},
     "output_type": "execute_result"
    }
   ],
   "source": [
    "percentile_99 = reviews_person.iloc[:,1].sort_values()[int(len(reviews_person.iloc[:,1])*99/100):len(reviews_person)]  # Takes the 99th percentile\n",
    "percentile_99.describe()\n"
   ]
  },
  {
   "cell_type": "markdown",
   "metadata": {},
   "source": [
    "How is the distribution by stars of the 99th percentile?"
   ]
  },
  {
   "cell_type": "code",
   "execution_count": 32,
   "metadata": {},
   "outputs": [],
   "source": [
    "percentile_99_stars = pd.DataFrame()\n",
    "\n",
    "for i in percentile_99.sample(frac = 0.1, replace = False).index:  ### Random pick 1,320 users\n",
    "    percentile_99_stars = percentile_99_stars.append(grps_person.get_group(i))\n",
    "    "
   ]
  },
  {
   "cell_type": "code",
   "execution_count": 33,
   "metadata": {
    "scrolled": true
   },
   "outputs": [
    {
     "data": {
      "text/plain": [
       "<matplotlib.axes._subplots.AxesSubplot at 0x11a80fa58>"
      ]
     },
     "execution_count": 33,
     "metadata": {},
     "output_type": "execute_result"
    },
    {
     "data": {
      "image/png": "[encoded data removed]",
      "text/plain": [
       "<matplotlib.figure.Figure at 0x11a80f240>"
      ]
     },
     "metadata": {},
     "output_type": "display_data"
    }
   ],
   "source": [
    "import seaborn as sns\n",
    "sns.distplot(percentile_99_stars['stars'].values, kde=False,norm_hist=True)\n"
   ]
  },
  {
   "cell_type": "markdown",
   "metadata": {},
   "source": [
    "The distribution is different than the whole sample."
   ]
  },
  {
   "cell_type": "markdown",
   "metadata": {},
   "source": [
    "Specifically, how the distribution of stars are for the users with the highest number of reviews?"
   ]
  },
  {
   "cell_type": "code",
   "execution_count": 28,
   "metadata": {},
   "outputs": [],
   "source": [
    "percentile_99_stars = pd.DataFrame()\n",
    "for i in percentile_99_9.index[12000:len(percentile_99.index)-1]:\n",
    "    percentile_99_stars = percentile_99_stars.append(grps_person.get_group(i))\n",
    "    "
   ]
  },
  {
   "cell_type": "code",
   "execution_count": 33,
   "metadata": {},
   "outputs": [
    {
     "name": "stdout",
     "output_type": "stream",
     "text": [
      "Distribution of Stars of the top 1,262 reviewers\n"
     ]
    },
    {
     "data": {
      "text/plain": [
       "<matplotlib.axes._subplots.AxesSubplot at 0x12a2d15f8>"
      ]
     },
     "execution_count": 33,
     "metadata": {},
     "output_type": "execute_result"
    },
    {
     "data": {
      "image/png": "[encoded data removed]",
      "text/plain": [
       "<matplotlib.figure.Figure at 0x129e634e0>"
      ]
     },
     "metadata": {},
     "output_type": "display_data"
    }
   ],
   "source": [
    "print('Distribution of Stars of the top 1,262 reviewers')\n",
    "sns.distplot(percentile_99_stars['stars'].values, kde=False)\n"
   ]
  },
  {
   "cell_type": "markdown",
   "metadata": {},
   "source": [
    "Analyzing counts by User - Business"
   ]
  },
  {
   "cell_type": "code",
   "execution_count": 34,
   "metadata": {},
   "outputs": [],
   "source": [
    "user_business = basic.groupby(by=['user_id','business_id'])"
   ]
  },
  {
   "cell_type": "code",
   "execution_count": 35,
   "metadata": {},
   "outputs": [
    {
     "data": {
      "text/plain": [
       "2"
      ]
     },
     "execution_count": 35,
     "metadata": {},
     "output_type": "execute_result"
    }
   ],
   "source": [
    "sum(user_business['date'].count().values > 1)"
   ]
  },
  {
   "cell_type": "markdown",
   "metadata": {},
   "source": [
    "There are only 2 reviews that given by the same user for a business"
   ]
  },
  {
   "cell_type": "markdown",
   "metadata": {},
   "source": [
    "Given the noise that this unbalanced data (in terms of review counts by users) can have, and in line with Bo Pang and Lillian Lee and Shivakumar Vaithyanathan (2002) we decide to keep at most 41 reviews per user (which is the 99th percentile)."
   ]
  },
  {
   "cell_type": "code",
   "execution_count": 6,
   "metadata": {},
   "outputs": [
    {
     "data": {
      "text/plain": [
       "count           1,290,392.00\n",
       "mean                    3.60\n",
       "std                    10.66\n",
       "min                     1.00\n",
       "25%                     1.00\n",
       "50%                     1.00\n",
       "75%                     3.00\n",
       "max                 1,645.00\n",
       "Name: date, dtype: float64"
      ]
     },
     "execution_count": 6,
     "metadata": {},
     "output_type": "execute_result"
    }
   ],
   "source": [
    "basic = basic[basic['stars'] != 3]\n",
    "grps_person = basic.groupby('user_id')\n",
    "reviews_person = grps_person.count().sort_values(by='business_id', ascending = False)  ## Counts of reviews per person\n",
    "pd.options.display.float_format = '{:20,.2f}'.format\n",
    "reviews_person.iloc[:,1].describe()"
   ]
  },
  {
   "cell_type": "code",
   "execution_count": 7,
   "metadata": {},
   "outputs": [],
   "source": [
    "import os\n",
    "users_large_num_reviews = pd.Series(reviews_person[reviews_person['stars']>41].index)\n",
    "users_large_num_reviews.to_csv('/Users/jd/OneDrive/Carnegie Mellon/Materias/Machine Learning/Project/users_large_num_reviews.csv')\n"
   ]
  },
  {
   "cell_type": "markdown",
   "metadata": {},
   "source": [
    "Reading the data"
   ]
  },
  {
   "cell_type": "code",
   "execution_count": 10,
   "metadata": {},
   "outputs": [
    {
     "name": "stdout",
     "output_type": "stream",
     "text": [
      "10085\n"
     ]
    },
    {
     "data": {
      "text/plain": [
       "0    CxDOIDnH8gp9KXzpBHJYXw\n",
       "1    DK57YibC5ShBmqQl97CKog\n",
       "2    bLbSNkLggFnqwNNzzq-Ijw\n",
       "3    PKEzKWv_FktMm2mGPjwd0Q\n",
       "4    cMEtAiW60I5wE_vLfTxoJQ\n",
       "Name: 1, dtype: object"
      ]
     },
     "execution_count": 10,
     "metadata": {},
     "output_type": "execute_result"
    }
   ],
   "source": [
    "import pandas as pd\n",
    "users_to_random = pd.read_csv('users_large_num_reviews.csv', header = None)[1]\n",
    "print(len(users_to_random))\n",
    "users_to_random.head(5)"
   ]
  },
  {
   "cell_type": "code",
   "execution_count": 1,
   "metadata": {
    "scrolled": true
   },
   "outputs": [
    {
     "name": "stderr",
     "output_type": "stream",
     "text": [
      "/anaconda3/lib/python3.6/site-packages/IPython/core/interactiveshell.py:2728: DtypeWarning: Columns (1) have mixed types. Specify dtype option on import or set low_memory=False.\n",
      "  interactivity=interactivity, compiler=compiler, result=result)\n"
     ]
    },
    {
     "data": {
      "text/html": [
       "<div>\n",
       "<style scoped>\n",
       "    .dataframe tbody tr th:only-of-type {\n",
       "        vertical-align: middle;\n",
       "    }\n",
       "\n",
       "    .dataframe tbody tr th {\n",
       "        vertical-align: top;\n",
       "    }\n",
       "\n",
       "    .dataframe thead th {\n",
       "        text-align: right;\n",
       "    }\n",
       "</style>\n",
       "<table border=\"1\" class=\"dataframe\">\n",
       "  <thead>\n",
       "    <tr style=\"text-align: right;\">\n",
       "      <th></th>\n",
       "      <th>business_id</th>\n",
       "      <th>stars</th>\n",
       "      <th>text</th>\n",
       "      <th>user_id</th>\n",
       "    </tr>\n",
       "  </thead>\n",
       "  <tbody>\n",
       "    <tr>\n",
       "      <th>0</th>\n",
       "      <td>0W4lkclzZThpx3V65bVgig</td>\n",
       "      <td>5</td>\n",
       "      <td>Love the staff, love the meat, love the place....</td>\n",
       "      <td>bv2nCi5Qv5vroFiqKGopiw</td>\n",
       "    </tr>\n",
       "    <tr>\n",
       "      <th>1</th>\n",
       "      <td>AEx2SYEUJmTxVVB18LlCwA</td>\n",
       "      <td>5</td>\n",
       "      <td>Super simple place but amazing nonetheless. It...</td>\n",
       "      <td>bv2nCi5Qv5vroFiqKGopiw</td>\n",
       "    </tr>\n",
       "    <tr>\n",
       "      <th>2</th>\n",
       "      <td>VR6GpWIda3SfvPC-lg9H3w</td>\n",
       "      <td>5</td>\n",
       "      <td>Small unassuming place that changes their menu...</td>\n",
       "      <td>bv2nCi5Qv5vroFiqKGopiw</td>\n",
       "    </tr>\n",
       "    <tr>\n",
       "      <th>3</th>\n",
       "      <td>CKC0-MOWMqoeWf6s-szl8g</td>\n",
       "      <td>5</td>\n",
       "      <td>Lester's is located in a beautiful neighborhoo...</td>\n",
       "      <td>bv2nCi5Qv5vroFiqKGopiw</td>\n",
       "    </tr>\n",
       "    <tr>\n",
       "      <th>4</th>\n",
       "      <td>ACFtxLv8pGrrxMm6EgjreA</td>\n",
       "      <td>4</td>\n",
       "      <td>Love coming here. Yes the place always needs t...</td>\n",
       "      <td>bv2nCi5Qv5vroFiqKGopiw</td>\n",
       "    </tr>\n",
       "  </tbody>\n",
       "</table>\n",
       "</div>"
      ],
      "text/plain": [
       "              business_id stars  \\\n",
       "0  0W4lkclzZThpx3V65bVgig     5   \n",
       "1  AEx2SYEUJmTxVVB18LlCwA     5   \n",
       "2  VR6GpWIda3SfvPC-lg9H3w     5   \n",
       "3  CKC0-MOWMqoeWf6s-szl8g     5   \n",
       "4  ACFtxLv8pGrrxMm6EgjreA     4   \n",
       "\n",
       "                                                text                 user_id  \n",
       "0  Love the staff, love the meat, love the place....  bv2nCi5Qv5vroFiqKGopiw  \n",
       "1  Super simple place but amazing nonetheless. It...  bv2nCi5Qv5vroFiqKGopiw  \n",
       "2  Small unassuming place that changes their menu...  bv2nCi5Qv5vroFiqKGopiw  \n",
       "3  Lester's is located in a beautiful neighborhoo...  bv2nCi5Qv5vroFiqKGopiw  \n",
       "4  Love coming here. Yes the place always needs t...  bv2nCi5Qv5vroFiqKGopiw  "
      ]
     },
     "execution_count": 1,
     "metadata": {},
     "output_type": "execute_result"
    }
   ],
   "source": [
    "import pandas as pd\n",
    "data = pd.read_csv('review_db.gz')\n",
    "data.head()"
   ]
  },
  {
   "cell_type": "markdown",
   "metadata": {},
   "source": [
    "We are not using datapoints with 3 stars, because we take them as neutral. We get rid of them to decrease data size."
   ]
  },
  {
   "cell_type": "code",
   "execution_count": 2,
   "metadata": {},
   "outputs": [
    {
     "data": {
      "text/plain": [
       "{1,\n",
       " '1',\n",
       " 2,\n",
       " '2',\n",
       " 3,\n",
       " '3',\n",
       " 4,\n",
       " '4',\n",
       " 5,\n",
       " '5',\n",
       " 'QRn8ELZmvP8S4evnSRU9bQ',\n",
       " 'aZs_IrhA7rvuLBumVhJjCw'}"
      ]
     },
     "execution_count": 2,
     "metadata": {},
     "output_type": "execute_result"
    }
   ],
   "source": [
    "set(data['stars'])"
   ]
  },
  {
   "cell_type": "code",
   "execution_count": 3,
   "metadata": {},
   "outputs": [
    {
     "name": "stdout",
     "output_type": "stream",
     "text": [
      "{1, 2, 4, 5}\n"
     ]
    }
   ],
   "source": [
    "data = data.drop(data[data['stars']=='QRn8ELZmvP8S4evnSRU9bQ'].index)\n",
    "data = data.drop(data[data['stars']=='aZs_IrhA7rvuLBumVhJjCw'].index)\n",
    "data['stars'][data['stars']=='1'] = 1\n",
    "data['stars'][data['stars']=='2'] = 2\n",
    "data['stars'][data['stars']=='3'] = 3\n",
    "data['stars'][data['stars']=='4'] = 4\n",
    "data['stars'][data['stars']=='5'] = 5\n",
    "data = data[data['stars'] != 3]\n",
    "print(set(data['stars']))\n",
    "data = data.filter(items=['stars','text','user_id'])"
   ]
  },
  {
   "cell_type": "code",
   "execution_count": 12,
   "metadata": {},
   "outputs": [],
   "source": [
    "users_to_random.name='user_id'\n",
    "users_to_random = users_to_random.to_frame()"
   ]
  },
  {
   "cell_type": "markdown",
   "metadata": {},
   "source": [
    "Merges the users to random reviews with all the data"
   ]
  },
  {
   "cell_type": "code",
   "execution_count": 13,
   "metadata": {},
   "outputs": [
    {
     "name": "stdout",
     "output_type": "stream",
     "text": [
      "--- 3.5528178215026855 seconds ---\n"
     ]
    }
   ],
   "source": [
    "import time\n",
    "start_time = time.time()\n",
    "start_time = time.time()\n",
    "datos_user_lage_review = data.merge(users_to_random, how='inner', on='user_id',right_index=True)\n",
    "print(\"--- %s seconds ---\" % (time.time() - start_time))"
   ]
  },
  {
   "cell_type": "code",
   "execution_count": 14,
   "metadata": {},
   "outputs": [
    {
     "data": {
      "text/plain": [
       "879671"
      ]
     },
     "execution_count": 14,
     "metadata": {},
     "output_type": "execute_result"
    }
   ],
   "source": [
    "len(datos_user_lage_review)"
   ]
  },
  {
   "cell_type": "markdown",
   "metadata": {},
   "source": [
    "Takes 41 random reviews from users with more than 41 reviews and store it on sample_users"
   ]
  },
  {
   "cell_type": "code",
   "execution_count": 15,
   "metadata": {
    "scrolled": false
   },
   "outputs": [
    {
     "name": "stdout",
     "output_type": "stream",
     "text": [
      "--- 1095.7776849269867 seconds ---\n"
     ]
    }
   ],
   "source": [
    "import time\n",
    "start_time = time.time()\n",
    "\n",
    "sample_users = pd.DataFrame()\n",
    "for i in range(len(users_to_random)):\n",
    "    sample_users = sample_users.append(datos_user_lage_review[datos_user_lage_review['user_id'] == users_to_random.iloc[i,0]].sample(n=41))\n",
    "\n",
    "print(\"--- %s seconds ---\" % (time.time() - start_time))\n"
   ]
  },
  {
   "cell_type": "code",
   "execution_count": 16,
   "metadata": {},
   "outputs": [
    {
     "data": {
      "text/html": [
       "<div>\n",
       "<style scoped>\n",
       "    .dataframe tbody tr th:only-of-type {\n",
       "        vertical-align: middle;\n",
       "    }\n",
       "\n",
       "    .dataframe tbody tr th {\n",
       "        vertical-align: top;\n",
       "    }\n",
       "\n",
       "    .dataframe thead th {\n",
       "        text-align: right;\n",
       "    }\n",
       "</style>\n",
       "<table border=\"1\" class=\"dataframe\">\n",
       "  <thead>\n",
       "    <tr style=\"text-align: right;\">\n",
       "      <th></th>\n",
       "      <th>stars</th>\n",
       "      <th>text</th>\n",
       "      <th>user_id</th>\n",
       "    </tr>\n",
       "  </thead>\n",
       "  <tbody>\n",
       "    <tr>\n",
       "      <th>3482095</th>\n",
       "      <td>4</td>\n",
       "      <td>I don't frequent bookstores, personally I thin...</td>\n",
       "      <td>CxDOIDnH8gp9KXzpBHJYXw</td>\n",
       "    </tr>\n",
       "    <tr>\n",
       "      <th>1944261</th>\n",
       "      <td>2</td>\n",
       "      <td>Maybe I should had order a pho with no topping...</td>\n",
       "      <td>CxDOIDnH8gp9KXzpBHJYXw</td>\n",
       "    </tr>\n",
       "    <tr>\n",
       "      <th>3198684</th>\n",
       "      <td>4</td>\n",
       "      <td>Why do I have to make decisions all the time?!...</td>\n",
       "      <td>CxDOIDnH8gp9KXzpBHJYXw</td>\n",
       "    </tr>\n",
       "    <tr>\n",
       "      <th>2265877</th>\n",
       "      <td>4</td>\n",
       "      <td>Finally a brand new theatre in Markham area! \\...</td>\n",
       "      <td>CxDOIDnH8gp9KXzpBHJYXw</td>\n",
       "    </tr>\n",
       "    <tr>\n",
       "      <th>1803108</th>\n",
       "      <td>2</td>\n",
       "      <td>Dropped by Go For Tea on a rainny Saturday. \\r...</td>\n",
       "      <td>CxDOIDnH8gp9KXzpBHJYXw</td>\n",
       "    </tr>\n",
       "  </tbody>\n",
       "</table>\n",
       "</div>"
      ],
      "text/plain": [
       "        stars                                               text  \\\n",
       "3482095     4  I don't frequent bookstores, personally I thin...   \n",
       "1944261     2  Maybe I should had order a pho with no topping...   \n",
       "3198684     4  Why do I have to make decisions all the time?!...   \n",
       "2265877     4  Finally a brand new theatre in Markham area! \\...   \n",
       "1803108     2  Dropped by Go For Tea on a rainny Saturday. \\r...   \n",
       "\n",
       "                        user_id  \n",
       "3482095  CxDOIDnH8gp9KXzpBHJYXw  \n",
       "1944261  CxDOIDnH8gp9KXzpBHJYXw  \n",
       "3198684  CxDOIDnH8gp9KXzpBHJYXw  \n",
       "2265877  CxDOIDnH8gp9KXzpBHJYXw  \n",
       "1803108  CxDOIDnH8gp9KXzpBHJYXw  "
      ]
     },
     "execution_count": 16,
     "metadata": {},
     "output_type": "execute_result"
    }
   ],
   "source": [
    "sample_users.head()"
   ]
  },
  {
   "cell_type": "code",
   "execution_count": 18,
   "metadata": {},
   "outputs": [],
   "source": [
    "sample_users.to_csv('/Users/jd/OneDrive/Carnegie Mellon/Materias/Machine Learning/Project/random_sample_rev_users_large.csv')\n"
   ]
  },
  {
   "cell_type": "code",
   "execution_count": 5,
   "metadata": {},
   "outputs": [],
   "source": [
    "sample_users = pd.read_csv('random_sample_rev_users_large.csv')"
   ]
  },
  {
   "cell_type": "code",
   "execution_count": 8,
   "metadata": {},
   "outputs": [],
   "source": [
    "set(sample_users['stars'])\n",
    "sample_users = sample_users[sample_users['stars'] != 3]"
   ]
  },
  {
   "cell_type": "markdown",
   "metadata": {},
   "source": [
    "This gets rid from the big dataset of the users with high num of reviews"
   ]
  },
  {
   "cell_type": "code",
   "execution_count": 15,
   "metadata": {},
   "outputs": [
    {
     "name": "stdout",
     "output_type": "stream",
     "text": [
      "--- 2.8863489627838135 seconds ---\n"
     ]
    }
   ],
   "source": [
    "import time\n",
    "start_time = time.time()\n",
    "data=data.drop(datos_user_lage_review.index)\n",
    "print(\"--- %s seconds ---\" % (time.time() - start_time))"
   ]
  },
  {
   "cell_type": "code",
   "execution_count": 16,
   "metadata": {
    "scrolled": true
   },
   "outputs": [
    {
     "data": {
      "text/plain": [
       "count     3766517\n",
       "unique          4\n",
       "top             5\n",
       "freq      1932100\n",
       "Name: stars, dtype: int64"
      ]
     },
     "execution_count": 16,
     "metadata": {},
     "output_type": "execute_result"
    }
   ],
   "source": [
    "data['stars'].describe()"
   ]
  },
  {
   "cell_type": "code",
   "execution_count": 17,
   "metadata": {},
   "outputs": [],
   "source": [
    "data = data.append(sample_users)"
   ]
  },
  {
   "cell_type": "code",
   "execution_count": 19,
   "metadata": {},
   "outputs": [
    {
     "data": {
      "text/plain": [
       "count     4176007\n",
       "unique          4\n",
       "top             5\n",
       "freq      2090906\n",
       "Name: stars, dtype: int64"
      ]
     },
     "execution_count": 19,
     "metadata": {},
     "output_type": "execute_result"
    }
   ],
   "source": [
    "data['stars'].describe()"
   ]
  },
  {
   "cell_type": "code",
   "execution_count": 24,
   "metadata": {
    "scrolled": true
   },
   "outputs": [
    {
     "data": {
      "text/html": [
       "<div>\n",
       "<style scoped>\n",
       "    .dataframe tbody tr th:only-of-type {\n",
       "        vertical-align: middle;\n",
       "    }\n",
       "\n",
       "    .dataframe tbody tr th {\n",
       "        vertical-align: top;\n",
       "    }\n",
       "\n",
       "    .dataframe thead th {\n",
       "        text-align: right;\n",
       "    }\n",
       "</style>\n",
       "<table border=\"1\" class=\"dataframe\">\n",
       "  <thead>\n",
       "    <tr style=\"text-align: right;\">\n",
       "      <th></th>\n",
       "      <th>stars</th>\n",
       "      <th>text</th>\n",
       "      <th>user_id</th>\n",
       "    </tr>\n",
       "  </thead>\n",
       "  <tbody>\n",
       "    <tr>\n",
       "      <th>0</th>\n",
       "      <td>5</td>\n",
       "      <td>Love the staff, love the meat, love the place....</td>\n",
       "      <td>bv2nCi5Qv5vroFiqKGopiw</td>\n",
       "    </tr>\n",
       "    <tr>\n",
       "      <th>1</th>\n",
       "      <td>5</td>\n",
       "      <td>Super simple place but amazing nonetheless. It...</td>\n",
       "      <td>bv2nCi5Qv5vroFiqKGopiw</td>\n",
       "    </tr>\n",
       "    <tr>\n",
       "      <th>2</th>\n",
       "      <td>5</td>\n",
       "      <td>Small unassuming place that changes their menu...</td>\n",
       "      <td>bv2nCi5Qv5vroFiqKGopiw</td>\n",
       "    </tr>\n",
       "    <tr>\n",
       "      <th>3</th>\n",
       "      <td>5</td>\n",
       "      <td>Lester's is located in a beautiful neighborhoo...</td>\n",
       "      <td>bv2nCi5Qv5vroFiqKGopiw</td>\n",
       "    </tr>\n",
       "    <tr>\n",
       "      <th>4</th>\n",
       "      <td>4</td>\n",
       "      <td>Love coming here. Yes the place always needs t...</td>\n",
       "      <td>bv2nCi5Qv5vroFiqKGopiw</td>\n",
       "    </tr>\n",
       "  </tbody>\n",
       "</table>\n",
       "</div>"
      ],
      "text/plain": [
       "  stars                                               text  \\\n",
       "0     5  Love the staff, love the meat, love the place....   \n",
       "1     5  Super simple place but amazing nonetheless. It...   \n",
       "2     5  Small unassuming place that changes their menu...   \n",
       "3     5  Lester's is located in a beautiful neighborhoo...   \n",
       "4     4  Love coming here. Yes the place always needs t...   \n",
       "\n",
       "                  user_id  \n",
       "0  bv2nCi5Qv5vroFiqKGopiw  \n",
       "1  bv2nCi5Qv5vroFiqKGopiw  \n",
       "2  bv2nCi5Qv5vroFiqKGopiw  \n",
       "3  bv2nCi5Qv5vroFiqKGopiw  \n",
       "4  bv2nCi5Qv5vroFiqKGopiw  "
      ]
     },
     "execution_count": 24,
     "metadata": {},
     "output_type": "execute_result"
    }
   ],
   "source": [
    "data=data.filter(items=['stars','text','user_id'])\n",
    "data.head()"
   ]
  },
  {
   "cell_type": "code",
   "execution_count": 26,
   "metadata": {},
   "outputs": [
    {
     "data": {
      "text/plain": [
       "4176007"
      ]
     },
     "execution_count": 26,
     "metadata": {},
     "output_type": "execute_result"
    }
   ],
   "source": [
    "len(data)"
   ]
  },
  {
   "cell_type": "code",
   "execution_count": 27,
   "metadata": {},
   "outputs": [],
   "source": [
    "data.to_csv('/Users/jd/OneDrive/Carnegie Mellon/Materias/Machine Learning/Project/Full_data_before_random.csv')"
   ]
  },
  {
   "cell_type": "code",
   "execution_count": 108,
   "metadata": {},
   "outputs": [],
   "source": [
    "data_before_random = pd.read_csv('Full_data_before_random.csv')"
   ]
  },
  {
   "cell_type": "code",
   "execution_count": 109,
   "metadata": {},
   "outputs": [
    {
     "data": {
      "text/plain": [
       "4176007"
      ]
     },
     "execution_count": 109,
     "metadata": {},
     "output_type": "execute_result"
    }
   ],
   "source": [
    "len(data_before_random)"
   ]
  },
  {
   "cell_type": "code",
   "execution_count": 28,
   "metadata": {},
   "outputs": [],
   "source": [
    "data = data.filter(items=['stars','user_id'])"
   ]
  },
  {
   "cell_type": "markdown",
   "metadata": {},
   "source": [
    "This takes statistics of the new data"
   ]
  },
  {
   "cell_type": "code",
   "execution_count": null,
   "metadata": {},
   "outputs": [],
   "source": [
    "grps_person = data.groupby('user_id')\n",
    "reviews_person = grps_person.count().sort_values(by='stars', ascending = False)  ## Counts of reviews per person\n",
    "pd.options.display.float_format = '{:20,.2f}'.format\n",
    "reviews_person.describe()"
   ]
  },
  {
   "cell_type": "code",
   "execution_count": null,
   "metadata": {},
   "outputs": [],
   "source": []
  },
  {
   "cell_type": "code",
   "execution_count": 16,
   "metadata": {},
   "outputs": [],
   "source": [
    "data_one = data[data['stars']==1].sample(n=2500)\n",
    "data_two = data[data['stars']==2].sample(n=2500)\n",
    "data_four = data[data['stars']==4].sample(n=2500)\n",
    "data_five = data[data['stars']==5].sample(n=2500)"
   ]
  },
  {
   "cell_type": "code",
   "execution_count": 17,
   "metadata": {},
   "outputs": [],
   "source": [
    "new_data = data_one.append(data_two)\n",
    "new_data = new_data.append(data_four)\n",
    "new_data = new_data.append(data_five)"
   ]
  },
  {
   "cell_type": "code",
   "execution_count": 21,
   "metadata": {},
   "outputs": [
    {
     "data": {
      "text/plain": [
       "<matplotlib.axes._subplots.AxesSubplot at 0x10934d668>"
      ]
     },
     "execution_count": 21,
     "metadata": {},
     "output_type": "execute_result"
    },
    {
     "data": {
      "image/png": "[encoded data removed]",
      "text/plain": [
       "<matplotlib.figure.Figure at 0x1092fbf28>"
      ]
     },
     "metadata": {},
     "output_type": "display_data"
    }
   ],
   "source": [
    "new_data.plot.hist()"
   ]
  },
  {
   "cell_type": "code",
   "execution_count": 24,
   "metadata": {},
   "outputs": [],
   "source": [
    "new_data.to_csv('/Users/jd/OneDrive/Carnegie Mellon/Materias/Machine Learning/Project/new_data.csv')"
   ]
  },
  {
   "cell_type": "code",
   "execution_count": null,
   "metadata": {},
   "outputs": [],
   "source": []
  },
  {
   "cell_type": "markdown",
   "metadata": {},
   "source": [
    "## BASELINE MODEL"
   ]
  },
  {
   "cell_type": "markdown",
   "metadata": {},
   "source": [
    "The baseline model takes a list of good and bad words and classify the comments based on the numbers of good vs the number of bad words in each comment. For example, if a comment has 20 'good' words and 15 'bad' words, it is classified as a good comment.\n",
    "\n",
    "For testing accuracy, we are taking bad comments as comments with one and two stars and good comments those with four and five stars."
   ]
  },
  {
   "cell_type": "code",
   "execution_count": 16,
   "metadata": {},
   "outputs": [],
   "source": [
    "import pandas as pd"
   ]
  },
  {
   "cell_type": "code",
   "execution_count": 23,
   "metadata": {
    "scrolled": true
   },
   "outputs": [],
   "source": [
    "data = pd.read_csv('new_data.csv')"
   ]
  },
  {
   "cell_type": "code",
   "execution_count": 3,
   "metadata": {},
   "outputs": [
    {
     "data": {
      "text/plain": [
       "10000"
      ]
     },
     "execution_count": 3,
     "metadata": {},
     "output_type": "execute_result"
    }
   ],
   "source": [
    "len(data)"
   ]
  },
  {
   "cell_type": "code",
   "execution_count": 4,
   "metadata": {},
   "outputs": [],
   "source": [
    "data = data.reset_index()\n"
   ]
  },
  {
   "cell_type": "code",
   "execution_count": 40,
   "metadata": {},
   "outputs": [],
   "source": [
    "data = data.filter(items=['stars','text'])"
   ]
  },
  {
   "cell_type": "code",
   "execution_count": 41,
   "metadata": {},
   "outputs": [
    {
     "data": {
      "text/html": [
       "<div>\n",
       "<style scoped>\n",
       "    .dataframe tbody tr th:only-of-type {\n",
       "        vertical-align: middle;\n",
       "    }\n",
       "\n",
       "    .dataframe tbody tr th {\n",
       "        vertical-align: top;\n",
       "    }\n",
       "\n",
       "    .dataframe thead th {\n",
       "        text-align: right;\n",
       "    }\n",
       "</style>\n",
       "<table border=\"1\" class=\"dataframe\">\n",
       "  <thead>\n",
       "    <tr style=\"text-align: right;\">\n",
       "      <th></th>\n",
       "      <th>stars</th>\n",
       "      <th>text</th>\n",
       "    </tr>\n",
       "  </thead>\n",
       "  <tbody>\n",
       "    <tr>\n",
       "      <th>4465</th>\n",
       "      <td>2</td>\n",
       "      <td>i was with family on the mystere package.  thi...</td>\n",
       "    </tr>\n",
       "    <tr>\n",
       "      <th>8302</th>\n",
       "      <td>5</td>\n",
       "      <td>when the schatzi said he was taking me to hofb...</td>\n",
       "    </tr>\n",
       "    <tr>\n",
       "      <th>6736</th>\n",
       "      <td>4</td>\n",
       "      <td>had the jameson ribs and fries. both were awes...</td>\n",
       "    </tr>\n",
       "    <tr>\n",
       "      <th>8518</th>\n",
       "      <td>5</td>\n",
       "      <td>absolutely unbelievable venues! the shear numb...</td>\n",
       "    </tr>\n",
       "    <tr>\n",
       "      <th>2113</th>\n",
       "      <td>1</td>\n",
       "      <td>my husband and i were very happy when we found...</td>\n",
       "    </tr>\n",
       "  </tbody>\n",
       "</table>\n",
       "</div>"
      ],
      "text/plain": [
       "      stars                                               text\n",
       "4465      2  i was with family on the mystere package.  thi...\n",
       "8302      5  when the schatzi said he was taking me to hofb...\n",
       "6736      4  had the jameson ribs and fries. both were awes...\n",
       "8518      5  absolutely unbelievable venues! the shear numb...\n",
       "2113      1  my husband and i were very happy when we found..."
      ]
     },
     "execution_count": 41,
     "metadata": {},
     "output_type": "execute_result"
    }
   ],
   "source": [
    "data.tail()"
   ]
  },
  {
   "cell_type": "code",
   "execution_count": 7,
   "metadata": {},
   "outputs": [],
   "source": [
    "negative = pd.read_csv('./Words_classifier/lexicon/negative-wordscopy.txt', encoding=\"ISO-8859-1\", header = None)\n",
    "positive = pd.read_csv('./Words_classifier/lexicon/positive-wordscopy.txt', encoding=\"ISO-8859-1\", header = None)"
   ]
  },
  {
   "cell_type": "code",
   "execution_count": 42,
   "metadata": {
    "scrolled": true
   },
   "outputs": [
    {
     "data": {
      "text/html": [
       "<div>\n",
       "<style scoped>\n",
       "    .dataframe tbody tr th:only-of-type {\n",
       "        vertical-align: middle;\n",
       "    }\n",
       "\n",
       "    .dataframe tbody tr th {\n",
       "        vertical-align: top;\n",
       "    }\n",
       "\n",
       "    .dataframe thead th {\n",
       "        text-align: right;\n",
       "    }\n",
       "</style>\n",
       "<table border=\"1\" class=\"dataframe\">\n",
       "  <thead>\n",
       "    <tr style=\"text-align: right;\">\n",
       "      <th></th>\n",
       "      <th>stars</th>\n",
       "      <th>text</th>\n",
       "    </tr>\n",
       "  </thead>\n",
       "  <tbody>\n",
       "    <tr>\n",
       "      <th>461</th>\n",
       "      <td>1</td>\n",
       "      <td>i was somewhat excited when the store says \"ma...</td>\n",
       "    </tr>\n",
       "    <tr>\n",
       "      <th>1412</th>\n",
       "      <td>1</td>\n",
       "      <td>not one employee seemed like they wanted to be...</td>\n",
       "    </tr>\n",
       "    <tr>\n",
       "      <th>5826</th>\n",
       "      <td>4</td>\n",
       "      <td>my friends have been raving about bellybusters...</td>\n",
       "    </tr>\n",
       "    <tr>\n",
       "      <th>4656</th>\n",
       "      <td>2</td>\n",
       "      <td>this place continues to go downhill. service i...</td>\n",
       "    </tr>\n",
       "    <tr>\n",
       "      <th>6394</th>\n",
       "      <td>4</td>\n",
       "      <td>wasn't too excited to try this place but was p...</td>\n",
       "    </tr>\n",
       "  </tbody>\n",
       "</table>\n",
       "</div>"
      ],
      "text/plain": [
       "      stars                                               text\n",
       "461       1  i was somewhat excited when the store says \"ma...\n",
       "1412      1  not one employee seemed like they wanted to be...\n",
       "5826      4  my friends have been raving about bellybusters...\n",
       "4656      2  this place continues to go downhill. service i...\n",
       "6394      4  wasn't too excited to try this place but was p..."
      ]
     },
     "execution_count": 42,
     "metadata": {},
     "output_type": "execute_result"
    }
   ],
   "source": [
    "data = data.sample(frac=1)\n",
    "data.head()"
   ]
  },
  {
   "cell_type": "code",
   "execution_count": 43,
   "metadata": {
    "scrolled": true
   },
   "outputs": [],
   "source": [
    "for i in range(len(data)):\n",
    "    data.iloc[i,1] = data.iloc[i,1].lower()"
   ]
  },
  {
   "cell_type": "code",
   "execution_count": 44,
   "metadata": {},
   "outputs": [],
   "source": [
    "data['prediction'] = -1"
   ]
  },
  {
   "cell_type": "code",
   "execution_count": 45,
   "metadata": {},
   "outputs": [
    {
     "data": {
      "text/html": [
       "<div>\n",
       "<style scoped>\n",
       "    .dataframe tbody tr th:only-of-type {\n",
       "        vertical-align: middle;\n",
       "    }\n",
       "\n",
       "    .dataframe tbody tr th {\n",
       "        vertical-align: top;\n",
       "    }\n",
       "\n",
       "    .dataframe thead th {\n",
       "        text-align: right;\n",
       "    }\n",
       "</style>\n",
       "<table border=\"1\" class=\"dataframe\">\n",
       "  <thead>\n",
       "    <tr style=\"text-align: right;\">\n",
       "      <th></th>\n",
       "      <th>stars</th>\n",
       "      <th>text</th>\n",
       "      <th>prediction</th>\n",
       "    </tr>\n",
       "  </thead>\n",
       "  <tbody>\n",
       "    <tr>\n",
       "      <th>461</th>\n",
       "      <td>1</td>\n",
       "      <td>i was somewhat excited when the store says \"ma...</td>\n",
       "      <td>-1</td>\n",
       "    </tr>\n",
       "    <tr>\n",
       "      <th>1412</th>\n",
       "      <td>1</td>\n",
       "      <td>not one employee seemed like they wanted to be...</td>\n",
       "      <td>-1</td>\n",
       "    </tr>\n",
       "    <tr>\n",
       "      <th>5826</th>\n",
       "      <td>4</td>\n",
       "      <td>my friends have been raving about bellybusters...</td>\n",
       "      <td>-1</td>\n",
       "    </tr>\n",
       "    <tr>\n",
       "      <th>4656</th>\n",
       "      <td>2</td>\n",
       "      <td>this place continues to go downhill. service i...</td>\n",
       "      <td>-1</td>\n",
       "    </tr>\n",
       "    <tr>\n",
       "      <th>6394</th>\n",
       "      <td>4</td>\n",
       "      <td>wasn't too excited to try this place but was p...</td>\n",
       "      <td>-1</td>\n",
       "    </tr>\n",
       "  </tbody>\n",
       "</table>\n",
       "</div>"
      ],
      "text/plain": [
       "      stars                                               text  prediction\n",
       "461       1  i was somewhat excited when the store says \"ma...          -1\n",
       "1412      1  not one employee seemed like they wanted to be...          -1\n",
       "5826      4  my friends have been raving about bellybusters...          -1\n",
       "4656      2  this place continues to go downhill. service i...          -1\n",
       "6394      4  wasn't too excited to try this place but was p...          -1"
      ]
     },
     "execution_count": 45,
     "metadata": {},
     "output_type": "execute_result"
    }
   ],
   "source": [
    "data.head()"
   ]
  },
  {
   "cell_type": "code",
   "execution_count": 53,
   "metadata": {},
   "outputs": [
    {
     "name": "stdout",
     "output_type": "stream",
     "text": [
      "1858.4459221363068\n"
     ]
    }
   ],
   "source": [
    "import time\n",
    "start_time = time.time()\n",
    "for i in range(len(data)):\n",
    "    #print(i)\n",
    "    if sum(data.iloc[i,1].count(x) for x in negative[0]) > sum(data.iloc[i,1].count(x) for x in positive[0]):\n",
    "        data.iloc[i,2] = 0\n",
    "    elif sum(data.iloc[i,1].count(x) for x in negative[0]) < sum(data.iloc[i,1].count(x) for x in positive[0]):\n",
    "        data.iloc[i,2] = 1\n",
    "\n",
    "print(time.time()-start_time)"
   ]
  },
  {
   "cell_type": "code",
   "execution_count": 54,
   "metadata": {},
   "outputs": [],
   "source": [
    "data['sentiment'] = 0"
   ]
  },
  {
   "cell_type": "code",
   "execution_count": 63,
   "metadata": {},
   "outputs": [],
   "source": [
    "for i in range(len(data)):\n",
    "    if data.iloc[i,0] == 1 or data.iloc[i,0] == 2:\n",
    "        data.iloc[i,3] = 0\n",
    "    else:\n",
    "        data.iloc[i,3] = 1"
   ]
  },
  {
   "cell_type": "code",
   "execution_count": 64,
   "metadata": {},
   "outputs": [
    {
     "data": {
      "text/html": [
       "<div>\n",
       "<style scoped>\n",
       "    .dataframe tbody tr th:only-of-type {\n",
       "        vertical-align: middle;\n",
       "    }\n",
       "\n",
       "    .dataframe tbody tr th {\n",
       "        vertical-align: top;\n",
       "    }\n",
       "\n",
       "    .dataframe thead th {\n",
       "        text-align: right;\n",
       "    }\n",
       "</style>\n",
       "<table border=\"1\" class=\"dataframe\">\n",
       "  <thead>\n",
       "    <tr style=\"text-align: right;\">\n",
       "      <th></th>\n",
       "      <th>stars</th>\n",
       "      <th>text</th>\n",
       "      <th>prediction</th>\n",
       "      <th>sentiment</th>\n",
       "    </tr>\n",
       "  </thead>\n",
       "  <tbody>\n",
       "    <tr>\n",
       "      <th>461</th>\n",
       "      <td>1</td>\n",
       "      <td>i was somewhat excited when the store says \"ma...</td>\n",
       "      <td>0</td>\n",
       "      <td>0</td>\n",
       "    </tr>\n",
       "    <tr>\n",
       "      <th>1412</th>\n",
       "      <td>1</td>\n",
       "      <td>not one employee seemed like they wanted to be...</td>\n",
       "      <td>-1</td>\n",
       "      <td>0</td>\n",
       "    </tr>\n",
       "    <tr>\n",
       "      <th>5826</th>\n",
       "      <td>4</td>\n",
       "      <td>my friends have been raving about bellybusters...</td>\n",
       "      <td>1</td>\n",
       "      <td>1</td>\n",
       "    </tr>\n",
       "    <tr>\n",
       "      <th>4656</th>\n",
       "      <td>2</td>\n",
       "      <td>this place continues to go downhill. service i...</td>\n",
       "      <td>0</td>\n",
       "      <td>0</td>\n",
       "    </tr>\n",
       "    <tr>\n",
       "      <th>6394</th>\n",
       "      <td>4</td>\n",
       "      <td>wasn't too excited to try this place but was p...</td>\n",
       "      <td>1</td>\n",
       "      <td>1</td>\n",
       "    </tr>\n",
       "    <tr>\n",
       "      <th>7129</th>\n",
       "      <td>4</td>\n",
       "      <td>another hipster coffee shop - cute atmosphere ...</td>\n",
       "      <td>1</td>\n",
       "      <td>1</td>\n",
       "    </tr>\n",
       "    <tr>\n",
       "      <th>3678</th>\n",
       "      <td>2</td>\n",
       "      <td>for $8.99 a bound for salad, i would expect th...</td>\n",
       "      <td>0</td>\n",
       "      <td>0</td>\n",
       "    </tr>\n",
       "    <tr>\n",
       "      <th>942</th>\n",
       "      <td>1</td>\n",
       "      <td>i am new to the area and visited this cvs for ...</td>\n",
       "      <td>0</td>\n",
       "      <td>0</td>\n",
       "    </tr>\n",
       "    <tr>\n",
       "      <th>8756</th>\n",
       "      <td>5</td>\n",
       "      <td>this is easily one of the best meals i have ev...</td>\n",
       "      <td>1</td>\n",
       "      <td>1</td>\n",
       "    </tr>\n",
       "    <tr>\n",
       "      <th>5363</th>\n",
       "      <td>4</td>\n",
       "      <td>good place if your trying to eat on the strip ...</td>\n",
       "      <td>1</td>\n",
       "      <td>1</td>\n",
       "    </tr>\n",
       "    <tr>\n",
       "      <th>788</th>\n",
       "      <td>1</td>\n",
       "      <td>please do not ever get any service from this l...</td>\n",
       "      <td>0</td>\n",
       "      <td>0</td>\n",
       "    </tr>\n",
       "    <tr>\n",
       "      <th>4938</th>\n",
       "      <td>2</td>\n",
       "      <td>let me preface this review with a couple of th...</td>\n",
       "      <td>1</td>\n",
       "      <td>0</td>\n",
       "    </tr>\n",
       "    <tr>\n",
       "      <th>2776</th>\n",
       "      <td>2</td>\n",
       "      <td>food wasn't bad but it was kind of pricey in m...</td>\n",
       "      <td>0</td>\n",
       "      <td>0</td>\n",
       "    </tr>\n",
       "    <tr>\n",
       "      <th>1896</th>\n",
       "      <td>1</td>\n",
       "      <td>stay away! we arrived at 5:30 p.m. to check in...</td>\n",
       "      <td>1</td>\n",
       "      <td>0</td>\n",
       "    </tr>\n",
       "    <tr>\n",
       "      <th>3766</th>\n",
       "      <td>2</td>\n",
       "      <td>if you are reading this, you are probably drun...</td>\n",
       "      <td>0</td>\n",
       "      <td>0</td>\n",
       "    </tr>\n",
       "    <tr>\n",
       "      <th>5511</th>\n",
       "      <td>4</td>\n",
       "      <td>went here on a recent monday evening, was surp...</td>\n",
       "      <td>1</td>\n",
       "      <td>1</td>\n",
       "    </tr>\n",
       "    <tr>\n",
       "      <th>5670</th>\n",
       "      <td>4</td>\n",
       "      <td>probably one of the better places in downtown....</td>\n",
       "      <td>1</td>\n",
       "      <td>1</td>\n",
       "    </tr>\n",
       "    <tr>\n",
       "      <th>6677</th>\n",
       "      <td>4</td>\n",
       "      <td>visiting from east coast &amp; ordered cannoli cak...</td>\n",
       "      <td>1</td>\n",
       "      <td>1</td>\n",
       "    </tr>\n",
       "    <tr>\n",
       "      <th>3872</th>\n",
       "      <td>2</td>\n",
       "      <td>nice people but wanted to sell me brakes and c...</td>\n",
       "      <td>-1</td>\n",
       "      <td>0</td>\n",
       "    </tr>\n",
       "    <tr>\n",
       "      <th>7523</th>\n",
       "      <td>5</td>\n",
       "      <td>we did the happy half hour during the day. eve...</td>\n",
       "      <td>1</td>\n",
       "      <td>1</td>\n",
       "    </tr>\n",
       "  </tbody>\n",
       "</table>\n",
       "</div>"
      ],
      "text/plain": [
       "      stars                                               text  prediction  \\\n",
       "461       1  i was somewhat excited when the store says \"ma...           0   \n",
       "1412      1  not one employee seemed like they wanted to be...          -1   \n",
       "5826      4  my friends have been raving about bellybusters...           1   \n",
       "4656      2  this place continues to go downhill. service i...           0   \n",
       "6394      4  wasn't too excited to try this place but was p...           1   \n",
       "7129      4  another hipster coffee shop - cute atmosphere ...           1   \n",
       "3678      2  for $8.99 a bound for salad, i would expect th...           0   \n",
       "942       1  i am new to the area and visited this cvs for ...           0   \n",
       "8756      5  this is easily one of the best meals i have ev...           1   \n",
       "5363      4  good place if your trying to eat on the strip ...           1   \n",
       "788       1  please do not ever get any service from this l...           0   \n",
       "4938      2  let me preface this review with a couple of th...           1   \n",
       "2776      2  food wasn't bad but it was kind of pricey in m...           0   \n",
       "1896      1  stay away! we arrived at 5:30 p.m. to check in...           1   \n",
       "3766      2  if you are reading this, you are probably drun...           0   \n",
       "5511      4  went here on a recent monday evening, was surp...           1   \n",
       "5670      4  probably one of the better places in downtown....           1   \n",
       "6677      4  visiting from east coast & ordered cannoli cak...           1   \n",
       "3872      2  nice people but wanted to sell me brakes and c...          -1   \n",
       "7523      5  we did the happy half hour during the day. eve...           1   \n",
       "\n",
       "      sentiment  \n",
       "461           0  \n",
       "1412          0  \n",
       "5826          1  \n",
       "4656          0  \n",
       "6394          1  \n",
       "7129          1  \n",
       "3678          0  \n",
       "942           0  \n",
       "8756          1  \n",
       "5363          1  \n",
       "788           0  \n",
       "4938          0  \n",
       "2776          0  \n",
       "1896          0  \n",
       "3766          0  \n",
       "5511          1  \n",
       "5670          1  \n",
       "6677          1  \n",
       "3872          0  \n",
       "7523          1  "
      ]
     },
     "execution_count": 64,
     "metadata": {},
     "output_type": "execute_result"
    }
   ],
   "source": [
    "data.head(20)"
   ]
  },
  {
   "cell_type": "markdown",
   "metadata": {},
   "source": [
    "Neutral comments"
   ]
  },
  {
   "cell_type": "code",
   "execution_count": 65,
   "metadata": {
    "scrolled": true
   },
   "outputs": [
    {
     "data": {
      "text/plain": [
       "690"
      ]
     },
     "execution_count": 65,
     "metadata": {},
     "output_type": "execute_result"
    }
   ],
   "source": [
    "data_not_classified = data[data['prediction']==-1]\n",
    "len(data_not_classified)"
   ]
  },
  {
   "cell_type": "code",
   "execution_count": 84,
   "metadata": {},
   "outputs": [
    {
     "data": {
      "text/plain": [
       "count    690.000000\n",
       "mean       0.473913\n",
       "std        0.499681\n",
       "min        0.000000\n",
       "25%        0.000000\n",
       "50%        0.000000\n",
       "75%        1.000000\n",
       "max        1.000000\n",
       "Name: sentiment, dtype: float64"
      ]
     },
     "execution_count": 84,
     "metadata": {},
     "output_type": "execute_result"
    }
   ],
   "source": [
    "data_not_classified['sentiment'].describe()"
   ]
  },
  {
   "cell_type": "markdown",
   "metadata": {},
   "source": [
    "Accuracy over all the sample"
   ]
  },
  {
   "cell_type": "code",
   "execution_count": 66,
   "metadata": {},
   "outputs": [
    {
     "data": {
      "text/plain": [
       "0.7286"
      ]
     },
     "execution_count": 66,
     "metadata": {},
     "output_type": "execute_result"
    }
   ],
   "source": [
    "from sklearn.metrics import accuracy_score\n",
    "accuracy_score(data['sentiment'], data['prediction'])"
   ]
  },
  {
   "cell_type": "markdown",
   "metadata": {},
   "source": [
    "Accuracy over only non-neutral"
   ]
  },
  {
   "cell_type": "code",
   "execution_count": 67,
   "metadata": {},
   "outputs": [],
   "source": [
    "data_classified = data[data['prediction']!=-1]"
   ]
  },
  {
   "cell_type": "code",
   "execution_count": 68,
   "metadata": {},
   "outputs": [
    {
     "data": {
      "text/plain": [
       "0.7825993555316864"
      ]
     },
     "execution_count": 68,
     "metadata": {},
     "output_type": "execute_result"
    }
   ],
   "source": [
    "from sklearn.metrics import accuracy_score\n",
    "accuracy_score(data_classified['sentiment'], data_classified['prediction'])"
   ]
  },
  {
   "cell_type": "code",
   "execution_count": 74,
   "metadata": {},
   "outputs": [],
   "source": [
    "two_and_four = []\n",
    "for i in range(len(data)):\n",
    "    if data.iloc[i,0] == 2 or data.iloc[i,0] == 4:\n",
    "        two_and_four.append(data.iloc[i,:])\n"
   ]
  },
  {
   "cell_type": "markdown",
   "metadata": {},
   "source": [
    "Accuracy of data with only reviews of two stars and four stars:"
   ]
  },
  {
   "cell_type": "code",
   "execution_count": 82,
   "metadata": {},
   "outputs": [
    {
     "data": {
      "text/plain": [
       "0.6614"
      ]
     },
     "execution_count": 82,
     "metadata": {},
     "output_type": "execute_result"
    }
   ],
   "source": [
    "accuracy_score(pd.DataFrame(two_and_four)['sentiment'], pd.DataFrame(two_and_four)['prediction'])"
   ]
  },
  {
   "cell_type": "markdown",
   "metadata": {},
   "source": [
    "Accuracy of data with only reviews of one stars and five stars:"
   ]
  },
  {
   "cell_type": "code",
   "execution_count": 81,
   "metadata": {},
   "outputs": [],
   "source": [
    "data_one_five = data.drop(pd.DataFrame(two_and_four).index)"
   ]
  },
  {
   "cell_type": "markdown",
   "metadata": {},
   "source": [
    "Taking non classified as negative comments:"
   ]
  },
  {
   "cell_type": "code",
   "execution_count": 100,
   "metadata": {},
   "outputs": [],
   "source": [
    "data.loc[data['prediction']==-1,'prediction']=0"
   ]
  },
  {
   "cell_type": "code",
   "execution_count": 103,
   "metadata": {},
   "outputs": [
    {
     "data": {
      "text/plain": [
       "0.7649"
      ]
     },
     "execution_count": 103,
     "metadata": {},
     "output_type": "execute_result"
    }
   ],
   "source": [
    "accuracy_score(data['sentiment'], data['prediction'])"
   ]
  },
  {
   "cell_type": "code",
   "execution_count": 110,
   "metadata": {},
   "outputs": [
    {
     "data": {
      "text/plain": [
       "array([[3858, 1142],\n",
       "       [1209, 3791]])"
      ]
     },
     "execution_count": 110,
     "metadata": {},
     "output_type": "execute_result"
    }
   ],
   "source": [
    "from sklearn.metrics import confusion_matrix\n",
    "\n",
    "confusion_matrix(data['sentiment'], data['prediction'])\n"
   ]
  },
  {
   "cell_type": "code",
   "execution_count": 106,
   "metadata": {},
   "outputs": [],
   "source": [
    "data.to_csv('/Users/jd/OneDrive/Carnegie Mellon/Materias/Machine Learning/Project/Base_classification.csv')"
   ]
  },
  {
   "cell_type": "code",
   "execution_count": 111,
   "metadata": {},
   "outputs": [
    {
     "data": {
      "text/plain": [
       "4933"
      ]
     },
     "execution_count": 111,
     "metadata": {},
     "output_type": "execute_result"
    }
   ],
   "source": [
    "sum(data['prediction'])"
   ]
  },
  {
   "cell_type": "code",
   "execution_count": 130,
   "metadata": {},
   "outputs": [
    {
     "data": {
      "text/plain": [
       "1142"
      ]
     },
     "execution_count": 130,
     "metadata": {},
     "output_type": "execute_result"
    }
   ],
   "source": [
    "sum([all(tup) for tup in zip(data['prediction']==1, data['sentiment']==0)])"
   ]
  }
 ],
 "metadata": {
  "kernelspec": {
   "display_name": "Python 3",
   "language": "python",
   "name": "python3"
  },
  "language_info": {
   "codemirror_mode": {
    "name": "ipython",
    "version": 3
   },
   "file_extension": ".py",
   "mimetype": "text/x-python",
   "name": "python",
   "nbconvert_exporter": "python",
   "pygments_lexer": "ipython3",
   "version": "3.6.5"
  }
 },
 "nbformat": 4,
 "nbformat_minor": 2
}
